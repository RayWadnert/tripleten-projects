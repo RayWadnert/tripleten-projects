{
 "cells": [
  {
   "cell_type": "markdown",
   "id": "3Xg_RQfnafXz",
   "metadata": {
    "id": "3Xg_RQfnafXz",
    "jp-MarkdownHeadingCollapsed": true
   },
   "source": [
    "# Análisis de Pedidos de Instacart\n",
    "\n",
    "En este análisis exploratorio, se utiliza el conjunto de datos de pedidos de Instacart para responder preguntas clave sobre el comportamiento de compra de los usuarios. A través de agrupaciones, cálculos de proporciones y visualizaciones básicas, se busca identificar patrones de compra, frecuencia de productos, y hábitos de los clientes.\n"
   ]
  },
  {
   "cell_type": "markdown",
   "id": "mhIvmmkW414q",
   "metadata": {
    "id": "mhIvmmkW414q"
   },
   "source": [
    "# Introducción\n",
    "\n",
    "Instacart es una plataforma de entrega de comestibles que permite a los usuarios realizar pedidos en línea y recibirlos a domicilio, de forma similar a servicios como Uber Eats o DoorDash. El presente proyecto tiene como objetivo realizar un análisis exploratorio de un conjunto de datos modificado que simula la actividad de la plataforma.\n",
    "\n",
    "El conjunto de datos ha sido ajustado intencionalmente para optimizar el procesamiento, incluyendo valores ausentes y duplicados de manera controlada, pero respetando la distribución original de los datos. A partir de esta información, se buscará identificar patrones de comportamiento de los usuarios, tendencias de consumo y características relevantes en los pedidos.\n",
    "\n",
    "El análisis se dividirá en tres etapas principales:\n",
    "1. Limpieza y preprocesamiento de datos.\n",
    "2. Exploración visual y estadística.\n",
    "3. Conclusiones a partir de los hallazgos obtenidos.\n",
    "\n",
    "---\n",
    "\n",
    "**Diccionario de datos** \n",
    "\n",
    "El conjunto incluye cinco archivos CSV que contienen la información relacionada con los pedidos, productos y su categorización. A continuación, se detallan sus columnas:\n",
    "\n",
    "- **`instacart_orders.csv`**\n",
    "  - `order_id`: ID único del pedido.\n",
    "  - `user_id`: ID único del usuario.\n",
    "  - `order_number`: Número de orden secuencial por usuario.\n",
    "  - `order_dow`: Día de la semana del pedido (0 = domingo).\n",
    "  - `order_hour_of_day`: Hora en que se realizó el pedido.\n",
    "  - `days_since_prior_order`: Días desde el pedido anterior del mismo usuario.\n",
    "\n",
    "- **`products.csv`**\n",
    "  - `product_id`: ID único del producto.\n",
    "  - `product_name`: Nombre del producto.\n",
    "  - `aisle_id`: ID del pasillo al que pertenece.\n",
    "  - `department_id`: ID del departamento al que pertenece.\n",
    "\n",
    "- **`order_products.csv`**\n",
    "  - `order_id`: ID del pedido.\n",
    "  - `product_id`: ID del producto.\n",
    "  - `add_to_cart_order`: Orden en que se agregó al carrito.\n",
    "  - `reordered`: 1 si ya fue pedido anteriormente por el usuario, 0 en caso contrario.\n",
    "\n",
    "- **`aisles.csv`**\n",
    "  - `aisle_id`: ID del pasillo.\n",
    "  - `aisle`: Nombre del pasillo.\n",
    "\n",
    "- **`departments.csv`**\n",
    "  - `department_id`: ID del departamento.\n",
    "  - `department`: Nombre del departamento."
   ]
  },
  {
   "cell_type": "markdown",
   "id": "n3Ha_cNSZ8lK",
   "metadata": {
    "id": "n3Ha_cNSZ8lK"
   },
   "source": [
    "## Carga de datos e inspección inicial\n",
    "\n",
    "Se realiza la importación de las librerías necesarias y la carga de los cinco archivos `.csv` provistos. Cada uno contiene información clave para el análisis: pedidos, productos, pasillos y departamentos.\n",
    "\n",
    "Se emplean rutas relativas para garantizar la compatibilidad del proyecto en distintos entornos.\n",
    "\n",
    "A continuación, se presenta una inspección general de cada tabla utilizando el método `.info()` para conocer el número de entradas, nombres de columnas, tipos de datos y posibles valores nulos."
   ]
  },
  {
   "cell_type": "code",
   "execution_count": 36,
   "id": "fbf1adab",
   "metadata": {
    "id": "fbf1adab"
   },
   "outputs": [
    {
     "name": "stdout",
     "output_type": "stream",
     "text": [
      "Información del DataFrame 'orders':\n",
      "<class 'pandas.core.frame.DataFrame'>\n",
      "RangeIndex: 478967 entries, 0 to 478966\n",
      "Data columns (total 6 columns):\n",
      " #   Column                  Non-Null Count   Dtype  \n",
      "---  ------                  --------------   -----  \n",
      " 0   order_id                478967 non-null  int64  \n",
      " 1   user_id                 478967 non-null  int64  \n",
      " 2   order_number            478967 non-null  int64  \n",
      " 3   order_dow               478967 non-null  int64  \n",
      " 4   order_hour_of_day       478967 non-null  int64  \n",
      " 5   days_since_prior_order  450148 non-null  float64\n",
      "dtypes: float64(1), int64(5)\n",
      "memory usage: 21.9 MB\n",
      "None\n",
      "\n",
      "Información del DataFrame 'products':\n",
      "<class 'pandas.core.frame.DataFrame'>\n",
      "RangeIndex: 49694 entries, 0 to 49693\n",
      "Data columns (total 4 columns):\n",
      " #   Column         Non-Null Count  Dtype \n",
      "---  ------         --------------  ----- \n",
      " 0   product_id     49694 non-null  int64 \n",
      " 1   product_name   48436 non-null  object\n",
      " 2   aisle_id       49694 non-null  int64 \n",
      " 3   department_id  49694 non-null  int64 \n",
      "dtypes: int64(3), object(1)\n",
      "memory usage: 1.5+ MB\n",
      "None\n",
      "\n",
      "Información del DataFrame 'aisles':\n",
      "<class 'pandas.core.frame.DataFrame'>\n",
      "RangeIndex: 134 entries, 0 to 133\n",
      "Data columns (total 2 columns):\n",
      " #   Column    Non-Null Count  Dtype \n",
      "---  ------    --------------  ----- \n",
      " 0   aisle_id  134 non-null    int64 \n",
      " 1   aisle     134 non-null    object\n",
      "dtypes: int64(1), object(1)\n",
      "memory usage: 2.2+ KB\n",
      "None\n",
      "\n",
      "Información del DataFrame 'departments':\n",
      "<class 'pandas.core.frame.DataFrame'>\n",
      "RangeIndex: 21 entries, 0 to 20\n",
      "Data columns (total 2 columns):\n",
      " #   Column         Non-Null Count  Dtype \n",
      "---  ------         --------------  ----- \n",
      " 0   department_id  21 non-null     int64 \n",
      " 1   department     21 non-null     object\n",
      "dtypes: int64(1), object(1)\n",
      "memory usage: 468.0+ bytes\n",
      "None\n",
      "\n",
      "Información del DataFrame 'order_products':\n",
      "<class 'pandas.core.frame.DataFrame'>\n",
      "RangeIndex: 4545007 entries, 0 to 4545006\n",
      "Data columns (total 4 columns):\n",
      " #   Column             Dtype  \n",
      "---  ------             -----  \n",
      " 0   order_id           int64  \n",
      " 1   product_id         int64  \n",
      " 2   add_to_cart_order  float64\n",
      " 3   reordered          int64  \n",
      "dtypes: float64(1), int64(3)\n",
      "memory usage: 138.7 MB\n",
      "None\n"
     ]
    }
   ],
   "source": [
    "import pandas as pd\n",
    "\n",
    "# Cargar los archivos desde la ruta local\n",
    "orders = pd.read_csv(r\"D:\\Datasets\\instacart_orders.csv\", sep=';')\n",
    "products = pd.read_csv(r\"D:\\Datasets\\products.csv\", sep=';')\n",
    "aisles = pd.read_csv(r\"D:\\Datasets\\aisles.csv\", sep=';')\n",
    "departments = pd.read_csv(r\"D:\\Datasets\\departments.csv\", sep=';')\n",
    "order_products = pd.read_csv(r\"D:\\Datasets\\order_products.csv\", sep=';')\n",
    "\n",
    "# Inspección general de cada DataFrame\n",
    "print(\"Información del DataFrame 'orders':\")\n",
    "print(orders.info())\n",
    "\n",
    "print(\"\\nInformación del DataFrame 'products':\")\n",
    "print(products.info())\n",
    "\n",
    "print(\"\\nInformación del DataFrame 'aisles':\")\n",
    "print(aisles.info())\n",
    "\n",
    "print(\"\\nInformación del DataFrame 'departments':\")\n",
    "print(departments.info())\n",
    "\n",
    "print(\"\\nInformación del DataFrame 'order_products':\")\n",
    "print(order_products.info())"
   ]
  },
  {
   "cell_type": "markdown",
   "id": "8RJHqxVmaVsF",
   "metadata": {
    "id": "8RJHqxVmaVsF"
   },
   "source": [
    "## Preprocesamiento de los datos\n",
    "\n",
    "En esta sección se realiza el preprocesamiento de los datos siguiendo tres objetivos clave:\n",
    "\n",
    "- Verificar y corregir los tipos de datos (por ejemplo, asegurarse de que los ID sean enteros).\n",
    "- Identificar y tratar valores ausentes.\n",
    "- Detectar y eliminar valores duplicados.\n",
    "\n",
    "Este paso es fundamental para garantizar la calidad del análisis posterior. A continuación, se presenta el plan de solución y se desarrolla el análisis con el DataFrame `orders`.\n",
    "\n",
    "---\n",
    "\n",
    "### Eliminación de valores duplicados — `orders`\n",
    "\n",
    "Primero, se evaluó si el conjunto de datos contenía filas duplicadas. Se detectaron **15 registros duplicados**, los cuales presentaban valores idénticos en todas sus columnas (`order_id`, `user_id`, `order_number`, `order_dow`, `order_hour_of_day`, `days_since_prior_order`).\n",
    "\n",
    "Para entender mejor estos casos, se analizó un subconjunto filtrado de pedidos realizados el miércoles a las 2:00 a.m., lo que reveló **121 pedidos** realizados en ese horario. Esto sugiere que las duplicaciones podrían estar relacionadas con hábitos de compra recurrentes, pero al tratarse de duplicados exactos, se procedió con su eliminación.\n",
    "\n",
    "Tras aplicar `drop_duplicates()`, se verificó que el número total de filas pasó de **478,967 a 478,952**. Posteriormente, se confirmó que no quedaban duplicados ni en las filas completas ni en los valores de `order_id`.\n",
    "\n",
    "Este proceso asegura que los datos del DataFrame `orders` estén libres de duplicaciones y listos para análisis posteriores.\n"
   ]
  },
  {
   "cell_type": "code",
   "execution_count": 37,
   "id": "b99297a5-405a-463d-8535-9adc3da4ad74",
   "metadata": {
    "id": "b99297a5-405a-463d-8535-9adc3da4ad74",
    "scrolled": true
   },
   "outputs": [
    {
     "name": "stdout",
     "output_type": "stream",
     "text": [
      "Número de filas duplicadas en 'orders': 15\n",
      "Ejemplo de filas duplicadas:\n",
      "        order_id  user_id  order_number  order_dow  order_hour_of_day  \\\n",
      "145574    794638    50898            24          3                  2   \n",
      "223105   2160484   107525            16          3                  2   \n",
      "230807   1918001   188546            14          3                  2   \n",
      "266232   1782114   106752             1          3                  2   \n",
      "273805   1112182   202304            84          3                  2   \n",
      "284038   2845099    31189            11          3                  2   \n",
      "311713   1021560    53767             3          3                  2   \n",
      "321100    408114    68324             4          3                  2   \n",
      "323900   1919531   191501            32          3                  2   \n",
      "345917   2232988    82565             1          3                  2   \n",
      "371905    391768    57671            19          3                  2   \n",
      "394347    467134    63189            21          3                  2   \n",
      "411408   1286742   183220            48          3                  2   \n",
      "415163   2282673    86751            49          3                  2   \n",
      "441599   2125197    14050            48          3                  2   \n",
      "\n",
      "        days_since_prior_order  \n",
      "145574                     2.0  \n",
      "223105                    30.0  \n",
      "230807                    16.0  \n",
      "266232                     NaN  \n",
      "273805                     6.0  \n",
      "284038                     7.0  \n",
      "311713                     9.0  \n",
      "321100                    18.0  \n",
      "323900                     7.0  \n",
      "345917                     NaN  \n",
      "371905                    10.0  \n",
      "394347                     2.0  \n",
      "411408                     4.0  \n",
      "415163                     2.0  \n",
      "441599                     3.0  \n",
      "Número de pedidos realizados el miércoles a las 2:00 a.m.: 121\n",
      "        order_id  user_id  order_number  order_dow  order_hour_of_day  \\\n",
      "4838     2766110   162084            41          3                  2   \n",
      "5156     2190225   138285            18          3                  2   \n",
      "15506     553049    58599            13          3                  2   \n",
      "18420     382357   120200            19          3                  2   \n",
      "24691     690242    77357             2          3                  2   \n",
      "...          ...      ...           ...        ...                ...   \n",
      "457013   3384021    14881             6          3                  2   \n",
      "458816    910166   164782            18          3                  2   \n",
      "459635   1680532   106435             6          3                  2   \n",
      "468324    222962    54979            59          3                  2   \n",
      "477526   2592344    46860            38          3                  2   \n",
      "\n",
      "        days_since_prior_order  \n",
      "4838                      16.0  \n",
      "5156                      11.0  \n",
      "15506                      7.0  \n",
      "18420                     11.0  \n",
      "24691                      9.0  \n",
      "...                        ...  \n",
      "457013                    30.0  \n",
      "458816                     4.0  \n",
      "459635                    21.0  \n",
      "468324                     3.0  \n",
      "477526                     3.0  \n",
      "\n",
      "[121 rows x 6 columns]\n",
      "Número de filas tras eliminar duplicados: 478952\n",
      "Número de filas duplicadas después de limpiar: 0\n",
      "Número de IDs de pedidos duplicados: 0\n"
     ]
    }
   ],
   "source": [
    "# Identificar duplicados en el DataFrame 'orders'\n",
    "duplicados_orders = orders.duplicated()\n",
    "print(f\"Número de filas duplicadas en 'orders': {duplicados_orders.sum()}\")\n",
    "\n",
    "if duplicados_orders.any():\n",
    "    print(\"Ejemplo de filas duplicadas:\")\n",
    "    print(orders[duplicados_orders])\n",
    "\n",
    "# Verificación adicional (pedidos hechos miércoles 2 a.m.)\n",
    "pedidos_miercoles_2am = orders[(orders['order_dow'] == 3) & (orders['order_hour_of_day'] == 2)]\n",
    "print(f\"Número de pedidos realizados el miércoles a las 2:00 a.m.: {pedidos_miercoles_2am.shape[0]}\")\n",
    "print(pedidos_miercoles_2am)\n",
    "\n",
    "# Eliminar duplicados\n",
    "orders = orders.drop_duplicates()\n",
    "print(f\"Número de filas tras eliminar duplicados: {orders.shape[0]}\")\n",
    "\n",
    "# Verificar que no quedan duplicados\n",
    "duplicados_orders = orders.duplicated()\n",
    "print(f\"Número de filas duplicadas después de limpiar: {duplicados_orders.sum()}\")\n",
    "\n",
    "# Verificar que los IDs no están duplicados\n",
    "duplicados_order_ids = orders['order_id'].duplicated().sum()\n",
    "print(f\"Número de IDs de pedidos duplicados: {duplicados_order_ids}\")"
   ]
  },
  {
   "cell_type": "markdown",
   "id": "45e6bc46",
   "metadata": {
    "id": "45e6bc46"
   },
   "source": [
    "### Evaluación de duplicados — `products`\n",
    "\n",
    "El conjunto de datos `products` fue evaluado para detectar filas duplicadas completas, así como duplicaciones dentro de columnas clave.\n",
    "\n",
    "- **Filas completas duplicadas:** No se encontraron registros duplicados a nivel de fila.\n",
    "- **IDs de departamento (`department_id`) duplicados:** Se detectaron 49,673 repeticiones. Esto es esperable, ya que múltiples productos pueden pertenecer a un mismo departamento.\n",
    "- **Nombres de productos (`product_name`) duplicados:** Se identificaron 104 valores duplicados al ignorar diferencias de mayúsculas/minúsculas y omitir valores nulos.\n",
    "\n",
    "Este análisis sugiere que no es necesario eliminar registros, ya que las duplicaciones detectadas corresponden a relaciones válidas dentro de la estructura del dataset (como varios productos bajo un mismo departamento o productos con el mismo nombre).\n"
   ]
  },
  {
   "cell_type": "code",
   "execution_count": 40,
   "id": "5f526b5b-8175-46fa-a0fd-441767d50e64",
   "metadata": {
    "id": "5f526b5b-8175-46fa-a0fd-441767d50e64"
   },
   "outputs": [
    {
     "name": "stdout",
     "output_type": "stream",
     "text": [
      "Número de filas duplicadas en 'products': 0\n",
      "Número de IDs de departamentos duplicados en 'products': 49673\n",
      "Número de nombres duplicados de productos (ignorando mayúsculas): 1361\n",
      "Número de nombres duplicados de productos no faltantes: 104\n"
     ]
    }
   ],
   "source": [
    "# Verificar duplicados a nivel de fila\n",
    "duplicados_products = products.duplicated()\n",
    "print(f\"Número de filas duplicadas en 'products': {duplicados_products.sum()}\")\n",
    "\n",
    "# Verificar duplicados en department_id\n",
    "duplicados_department_ids = products['department_id'].duplicated().sum()\n",
    "print(f\"Número de IDs de departamentos duplicados en 'products': {duplicados_department_ids}\")\n",
    "\n",
    "# Verificar duplicados en nombres de productos (ignorando mayúsculas)\n",
    "duplicados_product_names = products['product_name'].str.lower().duplicated().sum()\n",
    "print(f\"Número de nombres duplicados de productos (ignorando mayúsculas): {duplicados_product_names}\")\n",
    "\n",
    "# Eliminar nulos antes de verificar duplicados\n",
    "productos_no_faltantes = products[products['product_name'].notna()]\n",
    "duplicados_productos_no_faltantes = productos_no_faltantes['product_name'].str.lower().duplicated().sum()\n",
    "print(f\"Número de nombres duplicados de productos no faltantes: {duplicados_productos_no_faltantes}\")"
   ]
  },
  {
   "cell_type": "markdown",
   "id": "60f30db1",
   "metadata": {
    "id": "60f30db1"
   },
   "source": [
    "### Evaluación de duplicados — `departments`\n",
    "\n",
    "Se verificó si existían registros duplicados completos y duplicaciones en la columna `department_id`. No se encontraron filas duplicadas ni IDs repetidos, lo que indica que la tabla `departments` está limpia y correctamente estructurada para su análisis.\n"
   ]
  },
  {
   "cell_type": "code",
   "execution_count": 43,
   "id": "fb410ad4-0fbf-4b80-bb09-23fdea79afe3",
   "metadata": {
    "id": "fb410ad4-0fbf-4b80-bb09-23fdea79afe3"
   },
   "outputs": [
    {
     "name": "stdout",
     "output_type": "stream",
     "text": [
      "Número de filas duplicadas en 'departments': 0\n",
      "Número de IDs de departamentos duplicados en 'departments': 0\n"
     ]
    }
   ],
   "source": [
    "# Verificar duplicados en el DataFrame 'departments'\n",
    "departments = pd.read_csv(r\"D:\\Datasets\\departments.csv\", sep=';')\n",
    "\n",
    "duplicados_departments = departments.duplicated()\n",
    "print(f\"Número de filas duplicadas en 'departments': {duplicados_departments.sum()}\")\n",
    "\n",
    "duplicados_department_ids = departments['department_id'].duplicated().sum()\n",
    "print(f\"Número de IDs de departamentos duplicados en 'departments': {duplicados_department_ids}\")"
   ]
  },
  {
   "cell_type": "markdown",
   "id": "889349c1",
   "metadata": {
    "id": "889349c1"
   },
   "source": [
    "### Evaluación de duplicados — `aisles`\n",
    "\n",
    "De manera similar, se evaluó la tabla `aisles`. No se identificaron registros duplicados ni repeticiones de `aisle_id`, lo cual confirma que la tabla contiene información única para cada pasillo y está lista para integrarse con otros DataFrames.\n"
   ]
  },
  {
   "cell_type": "code",
   "execution_count": 47,
   "id": "9da89fb9-4679-40f5-ad0d-c34df753a3f8",
   "metadata": {
    "id": "9da89fb9-4679-40f5-ad0d-c34df753a3f8"
   },
   "outputs": [
    {
     "name": "stdout",
     "output_type": "stream",
     "text": [
      "Número de filas duplicadas en 'aisles': 0\n",
      "Número de IDs de pasillos duplicados en 'aisles': 0\n"
     ]
    }
   ],
   "source": [
    "# Verificar duplicados en el DataFrame 'aisles'\n",
    "aisles = pd.read_csv(r\"D:\\Datasets\\aisles.csv\", sep=';')\n",
    "\n",
    "duplicados_aisles = aisles.duplicated()\n",
    "print(f\"Número de filas duplicadas en 'aisles': {duplicados_aisles.sum()}\")\n",
    "\n",
    "duplicados_aisle_ids = aisles['aisle_id'].duplicated().sum()\n",
    "print(f\"Número de IDs de pasillos duplicados en 'aisles': {duplicados_aisle_ids}\")"
   ]
  },
  {
   "cell_type": "markdown",
   "id": "274cd06a",
   "metadata": {
    "id": "274cd06a"
   },
   "source": [
    "### Evaluación de duplicados — `order_products`\n",
    "\n",
    "Se inspeccionaron posibles duplicaciones en la tabla `order_products` a nivel de filas completas y en la combinación de columnas `order_id` + `product_id`. No se identificaron duplicados en ningún caso, lo que garantiza la integridad de los registros de productos por pedido.\n"
   ]
  },
  {
   "cell_type": "code",
   "execution_count": 50,
   "id": "52326689-84a8-4b8f-a881-7c68780f62c9",
   "metadata": {
    "id": "52326689-84a8-4b8f-a881-7c68780f62c9"
   },
   "outputs": [
    {
     "name": "stdout",
     "output_type": "stream",
     "text": [
      "Número de filas duplicadas en 'order_products': 0\n",
      "Número de duplicados considerando 'order_id' y 'product_id': 0\n"
     ]
    }
   ],
   "source": [
    "# Verificar duplicados en el DataFrame 'order_products'\n",
    "order_products = pd.read_csv(r\"D:\\Datasets\\order_products.csv\", sep=';')\n",
    "\n",
    "duplicados_order_products = order_products.duplicated()\n",
    "print(f\"Número de filas duplicadas en 'order_products': {duplicados_order_products.sum()}\")\n",
    "\n",
    "duplicados_combinados = order_products.duplicated(subset=['order_id', 'product_id'], keep=False)\n",
    "print(f\"Número de duplicados considerando 'order_id' y 'product_id': {duplicados_combinados.sum()}\")"
   ]
  },
  {
   "cell_type": "markdown",
   "id": "1e46de76",
   "metadata": {
    "id": "1e46de76"
   },
   "source": [
    "## Análisis y tratamiento de valores ausentes\n",
    "\n",
    "Además de los valores duplicados, es fundamental identificar y tratar los valores ausentes para asegurar la integridad del análisis.\n",
    "\n",
    "Se encontraron valores nulos en las siguientes columnas:\n",
    "\n",
    "- `product_name` en el DataFrame `products`.\n",
    "- `days_since_prior_order` en el DataFrame `orders`.\n",
    "- `add_to_cart_order` en el DataFrame `order_products`.\n",
    "\n",
    "A continuación, se analiza cada caso y se documentan las decisiones tomadas para manejar los datos faltantes.\n",
    "\n",
    "---\n",
    "\n",
    "### Valores ausentes — `products`\n",
    "\n",
    "Se identificaron 1,258 valores ausentes en la columna `product_name` del DataFrame `products`. Al analizarlos, se observó que todos los valores faltantes pertenecen al pasillo con ID 100 y al departamento con ID 21.\n",
    "\n",
    "Al inspeccionar la tabla `aisles`, se encontró que el pasillo con ID 100 está etiquetado como `\"missing\"`. De igual forma, el departamento con ID 21 también aparece como `\"missing\"` en la tabla `departments`. Esto sugiere que los valores ausentes fueron incluidos intencionalmente como parte de un grupo de productos sin clasificar.\n",
    "\n",
    "Para mantener la integridad del conjunto de datos y evitar perder registros, los valores ausentes en `product_name` fueron completados con la etiqueta `\"Unknown\"`.\n"
   ]
  },
  {
   "cell_type": "code",
   "execution_count": 54,
   "id": "e5705c3c-e093-4e7a-bf6f-cc88b10354b1",
   "metadata": {},
   "outputs": [
    {
     "name": "stdout",
     "output_type": "stream",
     "text": [
      "Número de valores ausentes en 'product_name': 1258\n",
      "Número de valores ausentes relacionados con el pasillo con ID 100: 1258\n",
      "Número de valores ausentes relacionados con el departamento con ID 21: 1258\n",
      "Detalles del pasillo con ID 100:\n",
      "    aisle_id    aisle\n",
      "99       100  missing\n",
      "\n",
      "Detalles del departamento con ID 21:\n",
      "    department_id department\n",
      "20             21    missing\n",
      "Valores ausentes en 'product_name' completados con 'Unknown'.\n"
     ]
    }
   ],
   "source": [
    "# Contar valores nulos en la columna 'product_name'\n",
    "valores_ausentes_product_name = products['product_name'].isna().sum()\n",
    "print(f\"Número de valores ausentes en 'product_name': {valores_ausentes_product_name}\")\n",
    "\n",
    "# Verificar si los valores ausentes están concentrados en un pasillo específico\n",
    "ausentes_pasillo_100 = products[products['product_name'].isna() & (products['aisle_id'] == 100)]\n",
    "print(f\"Número de valores ausentes relacionados con el pasillo con ID 100: {ausentes_pasillo_100.shape[0]}\")\n",
    "\n",
    "# Verificar si los valores ausentes están en un departamento específico\n",
    "ausentes_departamento_21 = products[products['product_name'].isna() & (products['department_id'] == 21)]\n",
    "print(f\"Número de valores ausentes relacionados con el departamento con ID 21: {ausentes_departamento_21.shape[0]}\")\n",
    "\n",
    "# Ver detalles del pasillo y departamento\n",
    "pasillo_100 = aisles[aisles['aisle_id'] == 100]\n",
    "departamento_21 = departments[departments['department_id'] == 21]\n",
    "\n",
    "print(\"Detalles del pasillo con ID 100:\")\n",
    "print(pasillo_100)\n",
    "\n",
    "print(\"\\nDetalles del departamento con ID 21:\")\n",
    "print(departamento_21)\n",
    "\n",
    "# Rellenar los valores ausentes con 'Unknown'\n",
    "products['product_name'].fillna('Unknown', inplace=True)\n",
    "print(\"Valores ausentes en 'product_name' completados con 'Unknown'.\")"
   ]
  },
  {
   "cell_type": "markdown",
   "id": "c0aebd78",
   "metadata": {
    "id": "c0aebd78"
   },
   "source": [
    "### Valores ausentes — `orders`\n",
    "\n",
    "Se evaluó el DataFrame `orders` en busca de valores nulos. Se identificó que la única columna con posibles valores ausentes es `days_since_prior_order`. Esto es esperado, ya que para el primer pedido de cada usuario no puede calcularse el tiempo transcurrido desde un pedido anterior.\n",
    "\n",
    "Se verificó que todos los valores nulos en esta columna corresponden efectivamente a registros con `order_number` igual a 1. Por tanto, no es necesario imputar ni eliminar estos valores, ya que reflejan adecuadamente la lógica del negocio.\n"
   ]
  },
  {
   "cell_type": "code",
   "execution_count": 58,
   "id": "fe4a8b0f",
   "metadata": {
    "id": "fe4a8b0f"
   },
   "outputs": [
    {
     "name": "stdout",
     "output_type": "stream",
     "text": [
      "Valores ausentes por columna en 'orders':\n",
      "order_id                      0\n",
      "user_id                       0\n",
      "order_number                  0\n",
      "order_dow                     0\n",
      "order_hour_of_day             0\n",
      "days_since_prior_order    28817\n",
      "dtype: int64\n",
      "Número de valores ausentes que no corresponden al primer pedido: 0\n"
     ]
    }
   ],
   "source": [
    "# Verificar valores ausentes en 'orders'\n",
    "valores_ausentes_orders = orders.isna().sum()\n",
    "print(\"Valores ausentes por columna en 'orders':\")\n",
    "print(valores_ausentes_orders)\n",
    "\n",
    "# Verificar si los nulos en 'days_since_prior_order' corresponden al primer pedido\n",
    "valores_ausentes_no_primer_pedido = orders[\n",
    "    orders['days_since_prior_order'].isna() & (orders['order_number'] != 1)\n",
    "]\n",
    "print(f\"Número de valores ausentes que no corresponden al primer pedido: {valores_ausentes_no_primer_pedido.shape[0]}\")"
   ]
  },
  {
   "cell_type": "markdown",
   "id": "7eb45c86",
   "metadata": {
    "id": "7eb45c86"
   },
   "source": [
    "### Valores ausentes — `order_products`\n",
    "\n",
    "En el DataFrame `order_products`, se encontraron 836 valores ausentes en la columna `add_to_cart_order`. Esta columna representa el orden en que los productos fueron añadidos al carrito, por lo que su ausencia puede dificultar el análisis secuencial.\n",
    "\n",
    "Se revisó el rango válido de esta variable, cuyo valor mínimo es 1 y el máximo es 64. También se identificaron los IDs de pedido con valores ausentes.\n",
    "\n",
    "Finalmente, se optó por reemplazar los valores nulos con el valor `999`, una etiqueta que indica que el orden es desconocido, sin eliminar ningún registro. Luego se convirtió la columna al tipo entero (`int`) para mantener la consistencia.\n"
   ]
  },
  {
   "cell_type": "code",
   "execution_count": 63,
   "id": "93e41d96",
   "metadata": {
    "id": "93e41d96"
   },
   "outputs": [
    {
     "name": "stdout",
     "output_type": "stream",
     "text": [
      "Valores ausentes por columna en 'order_products':\n",
      "order_id             0\n",
      "product_id           0\n",
      "add_to_cart_order    0\n",
      "reordered            0\n",
      "dtype: int64\n",
      "Valor mínimo en 'add_to_cart_order': 1\n",
      "Valor máximo en 'add_to_cart_order': 999\n",
      "IDs de pedidos con valores ausentes en 'add_to_cart_order': []\n",
      "El número mínimo de productos en pedidos con valores ausentes es: nan\n",
      "Valores ausentes en 'add_to_cart_order' reemplazados con 999 y la columna convertida a tipo entero.\n"
     ]
    }
   ],
   "source": [
    "# Verificar valores ausentes en 'order_products'\n",
    "valores_ausentes_order_products = order_products.isna().sum()\n",
    "print(\"Valores ausentes por columna en 'order_products':\")\n",
    "print(valores_ausentes_order_products)\n",
    "\n",
    "# Rango actual de 'add_to_cart_order'\n",
    "min_add_to_cart_order = order_products['add_to_cart_order'].min()\n",
    "max_add_to_cart_order = order_products['add_to_cart_order'].max()\n",
    "print(f\"Valor mínimo en 'add_to_cart_order': {min_add_to_cart_order}\")\n",
    "print(f\"Valor máximo en 'add_to_cart_order': {max_add_to_cart_order}\")\n",
    "\n",
    "# IDs de pedidos con valores ausentes\n",
    "ids_pedidos_ausentes = order_products[order_products['add_to_cart_order'].isna()]['order_id'].unique()\n",
    "print(f\"IDs de pedidos con valores ausentes en 'add_to_cart_order': {ids_pedidos_ausentes}\")\n",
    "\n",
    "# Cantidad de productos por pedido con valores ausentes\n",
    "conteo_productos_por_pedido = order_products[\n",
    "    order_products['add_to_cart_order'].isna()\n",
    "].groupby('order_id')['product_id'].count()\n",
    "\n",
    "min_productos = conteo_productos_por_pedido.min()\n",
    "print(f\"El número mínimo de productos en pedidos con valores ausentes es: {min_productos}\")\n",
    "\n",
    "# Imputar los valores ausentes con 999 y convertir a entero\n",
    "order_products['add_to_cart_order'].fillna(999)\n",
    "order_products['add_to_cart_order'] = order_products['add_to_cart_order'].astype(int)\n",
    "print(\"Valores ausentes en 'add_to_cart_order' reemplazados con 999 y la columna convertida a tipo entero.\")"
   ]
  },
  {
   "cell_type": "markdown",
   "id": "UjrOIwTcz3ri",
   "metadata": {
    "id": "UjrOIwTcz3ri"
   },
   "source": [
    "## Análisis exploratorio de los datos\n",
    "\n",
    "Con los datos ya depurados, se procede a realizar un análisis exploratorio para identificar patrones de comportamiento en los pedidos. Este análisis incluye:\n",
    "\n",
    "1. Verificar que los valores de las columnas `order_hour_of_day` y `order_dow` en la tabla `orders` sean consistentes con su significado (es decir, que `order_hour_of_day` oscile entre 0 y 23 y `order_dow` entre 0 y 6).\n",
    "2. Visualizar la distribución de pedidos según la hora del día.\n",
    "3. Visualizar la distribución de pedidos por día de la semana.\n",
    "4. Analizar el tiempo que transcurre entre pedidos consecutivos.\n",
    "\n",
    "---\n",
    "\n",
    "### Verificación de valores razonables\n",
    "\n",
    "Se analizaron los valores únicos y los rangos de las columnas `order_hour_of_day` y `order_dow` en el DataFrame `orders`.\n",
    "\n",
    "- Los valores de `order_hour_of_day` se encuentran entre 0 y 23, lo que corresponde a un formato horario de 24 horas.\n",
    "- Los valores de `order_dow` van de 0 a 6, representando correctamente los días de la semana (de domingo a sábado).\n",
    "\n",
    "Ambas variables muestran valores coherentes con su definición, por lo que no requieren ajustes ni limpieza adicional en esta etapa.\n"
   ]
  },
  {
   "cell_type": "code",
   "execution_count": 69,
   "id": "growing-fruit",
   "metadata": {
    "id": "growing-fruit"
   },
   "outputs": [
    {
     "name": "stdout",
     "output_type": "stream",
     "text": [
      "Valores únicos en 'order_hour_of_day': [13 12 19 20 11  8 18 15 16  9 22 10  0 14 17  1  7  6  2 21  3 23  5  4]\n",
      "Rango válido en 'order_hour_of_day': 0 - 23\n",
      "Valores únicos en 'order_dow': [6 5 0 4 3 1 2]\n",
      "Rango válido en 'order_dow': 0 - 6\n"
     ]
    }
   ],
   "source": [
    "# Verificamos los valores únicos y los rangos de 'order_hour_of_day'\n",
    "valores_unicos_hour = orders['order_hour_of_day'].unique()\n",
    "print(f\"Valores únicos en 'order_hour_of_day': {valores_unicos_hour}\")\n",
    "print(f\"Rango válido en 'order_hour_of_day': {valores_unicos_hour.min()} - {valores_unicos_hour.max()}\")\n",
    "\n",
    "# Verificamos los valores únicos y los rangos de 'order_dow'\n",
    "valores_unicos_dow = orders['order_dow'].unique()\n",
    "print(f\"Valores únicos en 'order_dow': {valores_unicos_dow}\")\n",
    "print(f\"Rango válido en 'order_dow': {valores_unicos_dow.min()} - {valores_unicos_dow.max()}\")"
   ]
  },
  {
   "cell_type": "markdown",
   "id": "a6743a70",
   "metadata": {
    "id": "a6743a70"
   },
   "source": [
    "### Distribución de órdenes por hora del día\n",
    "\n",
    "Se analiza la cantidad de pedidos realizados en cada hora del día. Este patrón permite entender los horarios de mayor actividad por parte de los usuarios, lo cual puede ser útil para la planificación operativa o logística.\n",
    "\n"
   ]
  },
  {
   "cell_type": "code",
   "execution_count": 73,
   "id": "a36cca27",
   "metadata": {
    "id": "a36cca27"
   },
   "outputs": [
    {
     "data": {
      "image/png": "[encoded data removed]",
      "text/plain": [
       "<Figure size 1000x600 with 1 Axes>"
      ]
     },
     "metadata": {},
     "output_type": "display_data"
    }
   ],
   "source": [
    "import matplotlib.pyplot as plt\n",
    "\n",
    "ordenes_por_hora = orders['order_hour_of_day'].value_counts().sort_index()\n",
    "\n",
    "plt.figure(figsize=(10, 6))\n",
    "ordenes_por_hora.plot(kind='bar')\n",
    "plt.title('Número de órdenes por hora del día')\n",
    "plt.xlabel('Hora del día')\n",
    "plt.ylabel('Número de órdenes')\n",
    "plt.xticks(rotation=0)\n",
    "plt.grid(axis='y', linestyle='--', alpha=0.7)\n",
    "plt.show()"
   ]
  },
  {
   "cell_type": "markdown",
   "id": "documented-command",
   "metadata": {
    "id": "documented-command"
   },
   "source": [
    "### Distribución de órdenes por día de la semana\n",
    "\n",
    "Se examina la frecuencia de pedidos según el día de la semana. Esta distribución ayuda a identificar los días con mayor demanda en la plataforma y posibles diferencias entre días laborales y fines de semana."
   ]
  },
  {
   "cell_type": "code",
   "execution_count": 58,
   "id": "chief-digit",
   "metadata": {
    "id": "chief-digit"
   },
   "outputs": [
    {
     "data": {
      "image/png": "[encoded data removed]",
      "text/plain": [
       "<Figure size 800x500 with 1 Axes>"
      ]
     },
     "metadata": {},
     "output_type": "display_data"
    }
   ],
   "source": [
    "ordenes_por_dia = orders['order_dow'].value_counts().sort_index()\n",
    "\n",
    "plt.figure(figsize=(8, 5))\n",
    "ordenes_por_dia.plot(kind='bar', color='skyblue')\n",
    "plt.title('Número de órdenes por día de la semana')\n",
    "plt.xlabel('Día de la semana (0=Domingo, 6=Sábado)')\n",
    "plt.ylabel('Número de órdenes')\n",
    "plt.xticks(rotation=0)\n",
    "plt.grid(axis='y', linestyle='--', alpha=0.7)\n",
    "plt.show()"
   ]
  },
  {
   "cell_type": "markdown",
   "id": "cutting-concert",
   "metadata": {
    "id": "cutting-concert"
   },
   "source": [
    "### Tiempo de espera entre pedidos\n",
    "\n",
    "Se visualiza cuántos días transcurren entre un pedido y el siguiente por parte de un mismo cliente. Esto permite identificar hábitos de compra frecuentes, como compras semanales, diarias o esporádicas."
   ]
  },
  {
   "cell_type": "code",
   "execution_count": 76,
   "id": "c231f523",
   "metadata": {
    "id": "c231f523"
   },
   "outputs": [
    {
     "name": "stdout",
     "output_type": "stream",
     "text": [
      "Valor mínimo en 'days_since_prior_order': 0.0\n",
      "Valor máximo en 'days_since_prior_order': 30.0\n"
     ]
    },
    {
     "data": {
      "image/png": "[encoded data removed]",
      "text/plain": [
       "<Figure size 1200x600 with 1 Axes>"
      ]
     },
     "metadata": {},
     "output_type": "display_data"
    }
   ],
   "source": [
    "import matplotlib.pyplot as plt\n",
    "\n",
    "# Limpiar valores nulos\n",
    "dias = orders['days_since_prior_order'].dropna()\n",
    "\n",
    "# Obtener min y max limpios\n",
    "min_days = dias.min()\n",
    "max_days = dias.max()\n",
    "\n",
    "print(f\"Valor mínimo en 'days_since_prior_order': {min_days}\")\n",
    "print(f\"Valor máximo en 'days_since_prior_order': {max_days}\")\n",
    "\n",
    "# Crear histograma con bins enteros\n",
    "plt.figure(figsize=(12, 6))\n",
    "plt.hist(dias, bins=range(0, int(max_days)+2), edgecolor='black', color='lightblue')\n",
    "plt.title('Distribución del tiempo entre pedidos')\n",
    "plt.xlabel('Días desde el pedido anterior')\n",
    "plt.ylabel('Frecuencia')\n",
    "plt.grid(axis='y', linestyle='--', alpha=0.7)\n",
    "plt.xticks(range(0, int(max_days)+1))\n",
    "plt.show()"
   ]
  },
  {
   "cell_type": "markdown",
   "id": "packed-classic",
   "metadata": {
    "id": "packed-classic"
   },
   "source": [
    "### Comparación de la distribución horaria entre miércoles y sábado\n",
    "\n",
    "Se compara el comportamiento de compra en dos días específicos: miércoles (día laboral) y sábado (fin de semana). Esto permite detectar posibles diferencias en horarios de consumo según el contexto del día."
   ]
  },
  {
   "cell_type": "code",
   "execution_count": 81,
   "id": "d89b8403",
   "metadata": {
    "id": "d89b8403"
   },
   "outputs": [
    {
     "data": {
      "image/png": "[encoded data removed]",
      "text/plain": [
       "<Figure size 1000x600 with 1 Axes>"
      ]
     },
     "metadata": {},
     "output_type": "display_data"
    }
   ],
   "source": [
    "import matplotlib.pyplot as plt\n",
    "\n",
    "wednesday_orders = orders[orders['order_dow'] == 3]['order_hour_of_day']\n",
    "saturday_orders = orders[orders['order_dow'] == 6]['order_hour_of_day']\n",
    "\n",
    "wednesday_counts = wednesday_orders.value_counts().sort_index()\n",
    "saturday_counts = saturday_orders.value_counts().sort_index()\n",
    "\n",
    "plt.figure(figsize=(10, 6))\n",
    "plt.bar(wednesday_counts.index - 0.2, wednesday_counts, width=0.4, label='Miércoles', color='skyblue')\n",
    "plt.bar(saturday_counts.index + 0.2, saturday_counts, width=0.4, label='Sábado', color='orange')\n",
    "plt.title('Distribución de órdenes por hora: Miércoles vs Sábado')\n",
    "plt.xlabel('Hora del día')\n",
    "plt.ylabel('Número de órdenes')\n",
    "plt.xticks(range(0, 24))\n",
    "plt.grid(axis='y', linestyle='--', alpha=0.7)\n",
    "plt.legend()\n",
    "plt.show()\n"
   ]
  },
  {
   "cell_type": "markdown",
   "id": "e3891143",
   "metadata": {
    "id": "e3891143"
   },
   "source": [
    "### Distribución del número de pedidos por cliente\n",
    "\n",
    "Se analiza cuántos pedidos ha realizado cada cliente. Esta métrica ayuda a diferenciar entre usuarios ocasionales y frecuentes, lo cual puede ser útil para estrategias de fidelización o segmentación."
   ]
  },
  {
   "cell_type": "code",
   "execution_count": 84,
   "id": "d8c26c23",
   "metadata": {
    "id": "d8c26c23"
   },
   "outputs": [
    {
     "data": {
      "image/png": "[encoded data removed]",
      "text/plain": [
       "<Figure size 1000x600 with 1 Axes>"
      ]
     },
     "metadata": {},
     "output_type": "display_data"
    }
   ],
   "source": [
    "import matplotlib.pyplot as plt\n",
    "\n",
    "pedidos_por_cliente = orders['user_id'].value_counts()\n",
    "\n",
    "plt.figure(figsize=(10, 6))\n",
    "pedidos_por_cliente.plot(kind='hist', bins=20, edgecolor='black', color='skyblue')\n",
    "plt.title('Distribución del número de pedidos por cliente')\n",
    "plt.xlabel('Número de pedidos')\n",
    "plt.ylabel('Frecuencia')\n",
    "plt.grid(axis='y', linestyle='--', alpha=0.7)\n",
    "plt.show()"
   ]
  },
  {
   "cell_type": "markdown",
   "id": "54a0319c",
   "metadata": {
    "id": "54a0319c"
   },
   "source": [
    "### Productos más populares\n",
    "\n",
    "Se identifican los productos más comunes en los pedidos. Conocer estos artículos permite enfocar campañas promocionales o asegurar niveles óptimos de inventario."
   ]
  },
  {
   "cell_type": "code",
   "execution_count": 87,
   "id": "exterior-arizona",
   "metadata": {
    "id": "exterior-arizona"
   },
   "outputs": [
    {
     "name": "stdout",
     "output_type": "stream",
     "text": [
      "Los 20 productos más populares:\n",
      "      product_id              product_name\n",
      "21         26209                     Limes\n",
      "26         13176    Bag of Organic Bananas\n",
      "27         21903      Organic Baby Spinach\n",
      "48         47626               Large Lemon\n",
      "49         47766           Organic Avocado\n",
      "60          8277  Apple Honeycrisp Organic\n",
      "76         47209      Organic Hass Avocado\n",
      "100        24852                    Banana\n",
      "101        39275       Organic Blueberries\n",
      "105        28204        Organic Fuji Apple\n",
      "108        45007          Organic Zucchini\n",
      "116         5876             Organic Lemon\n",
      "146        22935      Organic Yellow Onion\n",
      "229        27845        Organic Whole Milk\n",
      "237        40706    Organic Grape Tomatoes\n",
      "279        21137      Organic Strawberries\n",
      "330        16797              Strawberries\n",
      "373        27966       Organic Raspberries\n",
      "611        49683            Cucumber Kirby\n",
      "1047       24964            Organic Garlic\n"
     ]
    }
   ],
   "source": [
    "# Unir tablas de productos con los pedidos\n",
    "productos_populares = order_products.merge(products, on='product_id')\n",
    "\n",
    "# Obtener los 20 productos más frecuentes por nombre\n",
    "conteo_productos = productos_populares['product_name'].value_counts().head(20)\n",
    "\n",
    "# Filtrar IDs y nombres de esos productos\n",
    "productos_top_20 = productos_populares[\n",
    "    productos_populares['product_name'].isin(conteo_productos.index)\n",
    "][['product_id', 'product_name']].drop_duplicates()\n",
    "\n",
    "# Mostrar resultados\n",
    "print(\"Los 20 productos más populares:\")\n",
    "print(productos_top_20)\n"
   ]
  },
  {
   "cell_type": "markdown",
   "id": "romantic-deposit",
   "metadata": {
    "id": "romantic-deposit"
   },
   "source": [
    "### Cantidad de productos por pedido\n",
    "\n",
    "Se mide cuántos artículos contiene un pedido en promedio. Esto proporciona una idea del tamaño típico del carrito de compras de los usuarios."
   ]
  },
  {
   "cell_type": "code",
   "execution_count": 92,
   "id": "virtual-punch",
   "metadata": {
    "id": "virtual-punch"
   },
   "outputs": [
    {
     "name": "stdout",
     "output_type": "stream",
     "text": [
      "count    450046.000000\n",
      "mean         10.098983\n",
      "std           7.540206\n",
      "min           1.000000\n",
      "25%           5.000000\n",
      "50%           8.000000\n",
      "75%          14.000000\n",
      "max         127.000000\n",
      "Name: product_id, dtype: float64\n"
     ]
    },
    {
     "data": {
      "image/png": "[encoded data removed]",
      "text/plain": [
       "<Figure size 1000x600 with 1 Axes>"
      ]
     },
     "metadata": {},
     "output_type": "display_data"
    }
   ],
   "source": [
    "# Agrupar y contar cuántos productos tiene cada pedido\n",
    "productos_por_pedido = order_products.groupby('order_id')['product_id'].count()\n",
    "\n",
    "# Resumen estadístico de la distribución\n",
    "print(productos_por_pedido.describe())\n",
    "\n",
    "# Visualización de la distribución\n",
    "plt.figure(figsize=(10, 6))\n",
    "plt.hist(productos_por_pedido, bins=30, edgecolor='black', alpha=0.7)\n",
    "plt.title('Distribución de la cantidad de productos por pedido')\n",
    "plt.xlabel('Número de productos')\n",
    "plt.ylabel('Frecuencia')\n",
    "plt.grid(axis='y', linestyle='--', alpha=0.7)\n",
    "plt.show()"
   ]
  },
  {
   "cell_type": "markdown",
   "id": "5e6b5537",
   "metadata": {
    "id": "5e6b5537"
   },
   "source": [
    "### Productos con mayor recurrencia en los pedidos\n",
    "\n",
    "Se analizan los productos que son reordenados con mayor frecuencia, es decir, aquellos que los clientes vuelven a comprar. Este comportamiento indica lealtad o alta necesidad del producto."
   ]
  },
  {
   "cell_type": "code",
   "execution_count": 95,
   "id": "48dd3658",
   "metadata": {
    "id": "48dd3658"
   },
   "outputs": [
    {
     "name": "stdout",
     "output_type": "stream",
     "text": [
      "    product_id              product_name  reordered_count\n",
      "0        24852                    Banana            55763\n",
      "1        13176    Bag of Organic Bananas            44450\n",
      "2        21137      Organic Strawberries            28639\n",
      "3        21903      Organic Baby Spinach            26233\n",
      "4        47209      Organic Hass Avocado            23629\n",
      "5        47766           Organic Avocado            18743\n",
      "6        27845        Organic Whole Milk            16251\n",
      "7        47626               Large Lemon            15044\n",
      "8        27966       Organic Raspberries            14748\n",
      "9        16797              Strawberries            13945\n",
      "10       26209                     Limes            13327\n",
      "11       22935      Organic Yellow Onion            11145\n",
      "12       24964            Organic Garlic            10411\n",
      "13       45007          Organic Zucchini            10076\n",
      "14       49683            Cucumber Kirby             9538\n",
      "15       28204        Organic Fuji Apple             8989\n",
      "16        8277  Apple Honeycrisp Organic             8836\n",
      "17       39275       Organic Blueberries             8799\n",
      "18        5876             Organic Lemon             8412\n",
      "19       49235       Organic Half & Half             8389\n"
     ]
    }
   ],
   "source": [
    "# Filtrar solo los productos que han sido reordenados\n",
    "productos_reordenados = order_products[order_products['reordered'] == 1]\n",
    "\n",
    "# Contar la frecuencia de reordenamiento por producto\n",
    "frecuencia_reordenados = productos_reordenados['product_id'].value_counts().head(20)\n",
    "\n",
    "# Crear DataFrame con los 20 productos más reordenados\n",
    "productos_top_reordenados = pd.DataFrame({\n",
    "    'product_id': frecuencia_reordenados.index,\n",
    "    'reordered_count': frecuencia_reordenados.values\n",
    "})\n",
    "\n",
    "# Añadir los nombres de los productos\n",
    "productos_top_reordenados = productos_top_reordenados.merge(products, on='product_id', how='left')\n",
    "\n",
    "# Mostrar resultado final\n",
    "print(productos_top_reordenados[['product_id', 'product_name', 'reordered_count']])"
   ]
  },
  {
   "cell_type": "markdown",
   "id": "9d312b14",
   "metadata": {
    "id": "9d312b14"
   },
   "source": [
    "### Proporción de reordenamiento por producto\n",
    "\n",
    "Se calcula la proporción de veces que cada producto fue reordenado respecto a su total de compras. Esta tasa muestra qué tan propenso es un producto a generar compras repetidas.\n",
    "\n"
   ]
  },
  {
   "cell_type": "code",
   "execution_count": 98,
   "id": "8ae9f4b1",
   "metadata": {
    "id": "8ae9f4b1"
   },
   "outputs": [
    {
     "name": "stdout",
     "output_type": "stream",
     "text": [
      "    product_id                                       product_name  \\\n",
      "0        14721                            Bone Strength Take Care   \n",
      "1        20949                           Vanilla Sandwich Cookies   \n",
      "2         6723                                   Palmiers- Petite   \n",
      "3         6732                  Naturally Sparkling Mineral Water   \n",
      "4        45088  California Dill Pollen & Garlic Goat Cheese & ...   \n",
      "5        45078                                       Pomegranatea   \n",
      "6        21016       Parchment Lined 8 in x 3.75 in x 2.5 in Pans   \n",
      "7        21005                        Peanut Butter Pie Ice Cream   \n",
      "8        35192                         Chocolate Soy Milk Singles   \n",
      "9        35197  Mocha Chocolate Chip  Organic Non-Dairy Frozen...   \n",
      "10        6810                        Raspberry Goji Paleo Prints   \n",
      "11       45040                                 Head Lock Mega Gel   \n",
      "12       45035                               Coffee Flavor Yogurt   \n",
      "13       27373                                     Meat Loaf Meal   \n",
      "14       30748                           Cheese & Garlic Croutons   \n",
      "15       45031                 Sugar Free Hazelnut Coffee Creamer   \n",
      "16       35137  Superior Preference Fade-Defying Color + Shine...   \n",
      "17       30747                   Dentotape® Unflavored Waxed Tape   \n",
      "18       35228                       Marvelous Muffins Baking Mix   \n",
      "19       35229                             Bean & Cheese Burritos   \n",
      "\n",
      "    reorder_rate  \n",
      "0            1.0  \n",
      "1            1.0  \n",
      "2            1.0  \n",
      "3            1.0  \n",
      "4            1.0  \n",
      "5            1.0  \n",
      "6            1.0  \n",
      "7            1.0  \n",
      "8            1.0  \n",
      "9            1.0  \n",
      "10           1.0  \n",
      "11           1.0  \n",
      "12           1.0  \n",
      "13           1.0  \n",
      "14           1.0  \n",
      "15           1.0  \n",
      "16           1.0  \n",
      "17           1.0  \n",
      "18           1.0  \n",
      "19           1.0  \n"
     ]
    }
   ],
   "source": [
    "# Agrupar por producto y calcular total de pedidos y reordenamientos\n",
    "product_reorder_rate = order_products.groupby('product_id').agg(\n",
    "    total_orders=('product_id', 'count'),\n",
    "    total_reorders=('reordered', 'sum')\n",
    ")\n",
    "\n",
    "# Calcular proporción de reordenamiento\n",
    "product_reorder_rate['reorder_rate'] = product_reorder_rate['total_reorders'] / product_reorder_rate['total_orders']\n",
    "\n",
    "# Ordenar y seleccionar los 20 con mayor proporción\n",
    "product_reorder_rate_sorted = product_reorder_rate.sort_values(by='reorder_rate', ascending=False)\n",
    "top_reorder_rate_products = product_reorder_rate_sorted.head(20).reset_index()\n",
    "\n",
    "# Agregar nombres de productos\n",
    "top_reorder_rate_products = top_reorder_rate_products.merge(products, on='product_id')[\n",
    "    ['product_id', 'product_name', 'reorder_rate']\n",
    "]\n",
    "\n",
    "# Mostrar resultados\n",
    "print(top_reorder_rate_products)"
   ]
  },
  {
   "cell_type": "markdown",
   "id": "subject-boxing",
   "metadata": {
    "id": "subject-boxing"
   },
   "source": [
    "### Proporción de productos repetidos por cliente\n",
    "\n",
    "Se calcula, para cada cliente, la proporción de productos que ya había adquirido anteriormente. Esta métrica refleja el nivel de repetición en los hábitos de consumo individuales."
   ]
  },
  {
   "cell_type": "code",
   "execution_count": 105,
   "id": "medical-couple",
   "metadata": {
    "id": "medical-couple",
    "scrolled": true
   },
   "outputs": [
    {
     "name": "stdout",
     "output_type": "stream",
     "text": [
      "         total_productos  productos_repetidos  repeat_ratio\n",
      "user_id                                                    \n",
      "2                     26                    1      0.038462\n",
      "4                      2                    0      0.000000\n",
      "5                     12                    8      0.666667\n",
      "6                      4                    0      0.000000\n",
      "7                     14                   13      0.928571\n",
      "count    149626.000000\n",
      "mean          0.494853\n",
      "std           0.292685\n",
      "min           0.000000\n",
      "25%           0.272727\n",
      "50%           0.500000\n",
      "75%           0.724138\n",
      "max           1.000000\n",
      "Name: repeat_ratio, dtype: float64\n"
     ]
    }
   ],
   "source": [
    "# Unir orden con usuario\n",
    "order_products_users = order_products.merge(orders[['order_id', 'user_id']], on='order_id', how='left')\n",
    "\n",
    "# Marcar productos repetidos\n",
    "order_products_users['is_reorder'] = order_products_users['reordered'] == 1\n",
    "\n",
    "# Calcular proporción por usuario\n",
    "proporciones_repetidas = order_products_users.groupby('user_id').agg(\n",
    "    total_productos=('product_id', 'count'),\n",
    "    productos_repetidos=('is_reorder', 'sum')\n",
    ")\n",
    "\n",
    "proporciones_repetidas['repeat_ratio'] = proporciones_repetidas['productos_repetidos'] / proporciones_repetidas['total_productos']\n",
    "\n",
    "# Mostrar resultados\n",
    "print(proporciones_repetidas.head())\n",
    "print(proporciones_repetidas['repeat_ratio'].describe())"
   ]
  },
  {
   "cell_type": "markdown",
   "id": "92d35137",
   "metadata": {
    "id": "92d35137"
   },
   "source": [
    "### Primer producto agregado al carrito\n",
    "\n",
    "Se identifican los productos que con mayor frecuencia fueron añadidos en primer lugar al carrito. Esto puede reflejar artículos prioritarios o de alta urgencia para el cliente."
   ]
  },
  {
   "cell_type": "code",
   "execution_count": 115,
   "id": "0ae57274",
   "metadata": {
    "id": "0ae57274",
    "scrolled": true
   },
   "outputs": [
    {
     "name": "stdout",
     "output_type": "stream",
     "text": [
      "    product_id  count                 product_name\n",
      "0        24852  15562                       Banana\n",
      "1        13176  11026       Bag of Organic Bananas\n",
      "2        27845   4363           Organic Whole Milk\n",
      "3        21137   3946         Organic Strawberries\n",
      "4        47209   3390         Organic Hass Avocado\n",
      "5        21903   3336         Organic Baby Spinach\n",
      "6        47766   3044              Organic Avocado\n",
      "7        19660   2336                 Spring Water\n",
      "8        16797   2308                 Strawberries\n",
      "9        27966   2024          Organic Raspberries\n",
      "10       44632   1914   Sparkling Water Grapefruit\n",
      "11       49235   1797          Organic Half & Half\n",
      "12       47626   1737                  Large Lemon\n",
      "13         196   1733                         Soda\n",
      "14       38689   1397     Organic Reduced Fat Milk\n",
      "15       26209   1370                        Limes\n",
      "16       12341   1340                Hass Avocados\n",
      "17        5785   1310  Organic Reduced Fat 2% Milk\n",
      "18       27086   1309                  Half & Half\n",
      "19       43352   1246                  Raspberries\n"
     ]
    }
   ],
   "source": [
    "primeros_productos = order_products[order_products['add_to_cart_order'] == 1]\n",
    "productos_primeros = primeros_productos['product_id'].value_counts().head(20)\n",
    "\n",
    "productos_primeros_con_nombres = productos_primeros.reset_index()\n",
    "productos_primeros_con_nombres.columns = ['product_id', 'count']\n",
    "\n",
    "productos_primeros_con_nombres = productos_primeros_con_nombres.merge(\n",
    "    products[['product_id', 'product_name']], on='product_id', how='left'\n",
    ")\n",
    "\n",
    "print(productos_primeros_con_nombres)\n"
   ]
  }
 ],
 "metadata": {
  "ExecuteTimeLog": [
   {
    "duration": 329,
    "start_time": "2025-01-10T03:23:03.416Z"
   },
   {
    "duration": 2127,
    "start_time": "2025-01-10T03:23:13.529Z"
   },
   {
    "duration": 20,
    "start_time": "2025-01-10T03:24:53.549Z"
   },
   {
    "duration": 9,
    "start_time": "2025-01-10T03:24:57.464Z"
   },
   {
    "duration": 9,
    "start_time": "2025-01-10T03:25:00.132Z"
   },
   {
    "duration": 8,
    "start_time": "2025-01-10T03:25:01.916Z"
   },
   {
    "duration": 7,
    "start_time": "2025-01-10T03:25:04.146Z"
   },
   {
    "duration": 166,
    "start_time": "2025-01-10T03:29:01.858Z"
   },
   {
    "duration": 529,
    "start_time": "2025-01-10T03:31:10.661Z"
   },
   {
    "duration": 3,
    "start_time": "2025-01-10T03:32:28.521Z"
   },
   {
    "duration": 1393,
    "start_time": "2025-01-10T03:33:32.411Z"
   },
   {
    "duration": 7,
    "start_time": "2025-01-10T03:33:45.535Z"
   },
   {
    "duration": 538,
    "start_time": "2025-01-10T03:36:01.600Z"
   },
   {
    "duration": 483,
    "start_time": "2025-01-10T03:36:12.070Z"
   },
   {
    "duration": 120,
    "start_time": "2025-01-10T03:36:23.678Z"
   },
   {
    "duration": 13,
    "start_time": "2025-01-10T03:39:33.675Z"
   },
   {
    "duration": 45,
    "start_time": "2025-01-10T03:39:41.526Z"
   },
   {
    "duration": 85,
    "start_time": "2025-01-10T03:39:59.137Z"
   },
   {
    "duration": 38,
    "start_time": "2025-01-10T03:40:11.428Z"
   },
   {
    "duration": 3,
    "start_time": "2025-01-10T03:40:56.172Z"
   },
   {
    "duration": 3,
    "start_time": "2025-01-10T03:41:14.360Z"
   },
   {
    "duration": 40,
    "start_time": "2025-01-10T03:41:56.954Z"
   },
   {
    "duration": 36,
    "start_time": "2025-01-10T03:42:08.227Z"
   },
   {
    "duration": 37,
    "start_time": "2025-01-10T03:42:11.275Z"
   },
   {
    "duration": 3,
    "start_time": "2025-01-10T03:44:42.392Z"
   },
   {
    "duration": 31,
    "start_time": "2025-01-10T03:45:19.515Z"
   },
   {
    "duration": 31,
    "start_time": "2025-01-10T03:46:07.944Z"
   },
   {
    "duration": 31,
    "start_time": "2025-01-10T03:48:17.932Z"
   },
   {
    "duration": 31,
    "start_time": "2025-01-10T03:48:20.795Z"
   },
   {
    "duration": 42,
    "start_time": "2025-01-10T03:48:29.202Z"
   },
   {
    "duration": 46,
    "start_time": "2025-01-10T03:48:44.269Z"
   },
   {
    "duration": 47,
    "start_time": "2025-01-10T03:48:58.889Z"
   },
   {
    "duration": 3,
    "start_time": "2025-01-10T03:58:52.639Z"
   },
   {
    "duration": 43,
    "start_time": "2025-01-10T03:58:54.800Z"
   },
   {
    "duration": 7,
    "start_time": "2025-01-10T03:59:44.646Z"
   },
   {
    "duration": 4,
    "start_time": "2025-01-10T04:00:49.909Z"
   },
   {
    "duration": 37,
    "start_time": "2025-01-10T04:00:56.941Z"
   },
   {
    "duration": 7,
    "start_time": "2025-01-10T04:01:24.787Z"
   },
   {
    "duration": 2339,
    "start_time": "2025-01-10T04:02:20.972Z"
   },
   {
    "duration": 22,
    "start_time": "2025-01-10T04:02:30.846Z"
   },
   {
    "duration": 1419,
    "start_time": "2025-01-10T04:02:53.071Z"
   },
   {
    "duration": 6,
    "start_time": "2025-01-10T04:26:01.205Z"
   },
   {
    "duration": 6,
    "start_time": "2025-01-10T04:26:08.614Z"
   },
   {
    "duration": 6,
    "start_time": "2025-01-10T04:26:17.629Z"
   },
   {
    "duration": 7,
    "start_time": "2025-01-10T04:26:27.884Z"
   },
   {
    "duration": 6,
    "start_time": "2025-01-10T04:26:36.535Z"
   },
   {
    "duration": 165,
    "start_time": "2025-01-10T04:39:30.253Z"
   },
   {
    "duration": 164,
    "start_time": "2025-01-10T04:39:33.063Z"
   },
   {
    "duration": 85,
    "start_time": "2025-01-10T04:39:51.774Z"
   },
   {
    "duration": 16,
    "start_time": "2025-01-10T04:41:24.289Z"
   },
   {
    "duration": 30,
    "start_time": "2025-01-10T04:41:33.634Z"
   },
   {
    "duration": 12,
    "start_time": "2025-01-10T04:42:56.114Z"
   },
   {
    "duration": 8,
    "start_time": "2025-01-10T04:43:10.002Z"
   },
   {
    "duration": 25,
    "start_time": "2025-01-10T04:43:21.913Z"
   },
   {
    "duration": 5,
    "start_time": "2025-01-10T04:46:48.246Z"
   },
   {
    "duration": 6,
    "start_time": "2025-01-10T04:46:50.711Z"
   },
   {
    "duration": 2126,
    "start_time": "2025-01-10T04:48:14.825Z"
   },
   {
    "duration": 125,
    "start_time": "2025-01-10T04:49:58.525Z"
   },
   {
    "duration": 634,
    "start_time": "2025-01-10T04:50:59.115Z"
   },
   {
    "duration": 2,
    "start_time": "2025-01-10T04:52:48.851Z"
   },
   {
    "duration": 22,
    "start_time": "2025-01-10T04:52:54.641Z"
   },
   {
    "duration": 5,
    "start_time": "2025-01-10T04:52:59.481Z"
   },
   {
    "duration": 238,
    "start_time": "2025-01-10T04:53:06.281Z"
   },
   {
    "duration": 186,
    "start_time": "2025-01-10T04:55:08.361Z"
   },
   {
    "duration": 142,
    "start_time": "2025-01-10T04:55:14.171Z"
   },
   {
    "duration": 653,
    "start_time": "2025-01-10T04:57:14.438Z"
   },
   {
    "duration": 250,
    "start_time": "2025-01-10T04:57:20.926Z"
   },
   {
    "duration": 187,
    "start_time": "2025-01-10T04:57:25.439Z"
   },
   {
    "duration": 240,
    "start_time": "2025-01-10T05:03:02.347Z"
   },
   {
    "duration": 13,
    "start_time": "2025-01-10T05:03:06.884Z"
   },
   {
    "duration": 200,
    "start_time": "2025-01-10T05:03:13.339Z"
   },
   {
    "duration": 112,
    "start_time": "2025-01-10T05:04:32.410Z"
   },
   {
    "duration": 60,
    "start_time": "2025-01-10T05:04:33.898Z"
   },
   {
    "duration": 13,
    "start_time": "2025-01-10T05:04:35.443Z"
   },
   {
    "duration": 5,
    "start_time": "2025-01-10T05:04:37.098Z"
   },
   {
    "duration": 124,
    "start_time": "2025-01-10T05:06:29.043Z"
   },
   {
    "duration": 8,
    "start_time": "2025-01-10T05:06:30.482Z"
   },
   {
    "duration": 14,
    "start_time": "2025-01-10T05:06:31.946Z"
   },
   {
    "duration": 422,
    "start_time": "2025-01-10T05:09:38.071Z"
   },
   {
    "duration": 59,
    "start_time": "2025-01-10T05:10:06.314Z"
   },
   {
    "duration": 59,
    "start_time": "2025-01-10T05:10:48.711Z"
   },
   {
    "duration": 396,
    "start_time": "2025-01-10T05:11:39.839Z"
   },
   {
    "duration": 42,
    "start_time": "2025-01-10T05:13:09.541Z"
   },
   {
    "duration": 13,
    "start_time": "2025-01-10T05:13:12.340Z"
   },
   {
    "duration": 58,
    "start_time": "2025-01-10T05:13:40.684Z"
   },
   {
    "duration": 40,
    "start_time": "2025-01-10T05:14:17.397Z"
   },
   {
    "duration": 737,
    "start_time": "2025-01-10T05:14:47.005Z"
   },
   {
    "duration": 765,
    "start_time": "2025-01-10T05:15:25.309Z"
   },
   {
    "duration": 888,
    "start_time": "2025-01-10T05:17:03.530Z"
   },
   {
    "duration": 710,
    "start_time": "2025-01-10T05:18:10.657Z"
   },
   {
    "duration": 3,
    "start_time": "2025-01-10T05:18:58.463Z"
   },
   {
    "duration": 4,
    "start_time": "2025-01-10T05:19:10.548Z"
   },
   {
    "duration": 7,
    "start_time": "2025-01-10T05:19:54.048Z"
   },
   {
    "duration": 7,
    "start_time": "2025-01-10T05:20:03.104Z"
   },
   {
    "duration": 1441,
    "start_time": "2025-01-10T05:20:12.544Z"
   },
   {
    "duration": 6,
    "start_time": "2025-01-10T05:21:35.695Z"
   },
   {
    "duration": 625,
    "start_time": "2025-01-10T05:21:49.743Z"
   },
   {
    "duration": 8,
    "start_time": "2025-01-10T05:23:12.143Z"
   },
   {
    "duration": 792,
    "start_time": "2025-01-10T05:23:27.544Z"
   },
   {
    "duration": 746,
    "start_time": "2025-01-10T05:24:46.151Z"
   },
   {
    "duration": 759,
    "start_time": "2025-01-10T05:25:11.653Z"
   },
   {
    "duration": 134,
    "start_time": "2025-01-10T05:25:45.022Z"
   },
   {
    "duration": 715,
    "start_time": "2025-01-10T05:25:59.603Z"
   },
   {
    "duration": 84,
    "start_time": "2025-01-10T05:26:05.229Z"
   },
   {
    "duration": 553,
    "start_time": "2025-01-10T05:26:34.115Z"
   },
   {
    "duration": 751,
    "start_time": "2025-01-10T05:26:54.775Z"
   },
   {
    "duration": 739,
    "start_time": "2025-01-10T05:27:36.259Z"
   },
   {
    "duration": 59,
    "start_time": "2025-01-10T05:28:14.269Z"
   },
   {
    "duration": 684,
    "start_time": "2025-01-10T05:29:10.310Z"
   },
   {
    "duration": 725,
    "start_time": "2025-01-10T05:29:31.763Z"
   },
   {
    "duration": 687,
    "start_time": "2025-01-10T05:30:35.515Z"
   },
   {
    "duration": 7,
    "start_time": "2025-01-10T05:31:13.138Z"
   },
   {
    "duration": 8,
    "start_time": "2025-01-10T05:31:54.225Z"
   },
   {
    "duration": 7,
    "start_time": "2025-01-10T05:31:59.290Z"
   },
   {
    "duration": 8,
    "start_time": "2025-01-10T05:32:02.883Z"
   },
   {
    "duration": 1170,
    "start_time": "2025-01-10T05:34:14.496Z"
   },
   {
    "duration": 2772,
    "start_time": "2025-01-10T05:34:19.579Z"
   },
   {
    "duration": 2855,
    "start_time": "2025-01-10T05:34:53.743Z"
   },
   {
    "duration": 2291,
    "start_time": "2025-01-10T05:35:21.071Z"
   },
   {
    "duration": 1908,
    "start_time": "2025-01-10T05:36:48.487Z"
   },
   {
    "duration": 1725,
    "start_time": "2025-01-10T05:37:35.615Z"
   },
   {
    "duration": 42,
    "start_time": "2025-01-10T05:42:10.235Z"
   },
   {
    "duration": 14,
    "start_time": "2025-01-10T05:42:14.859Z"
   },
   {
    "duration": 3,
    "start_time": "2025-01-10T05:42:48.387Z"
   },
   {
    "duration": 11487,
    "start_time": "2025-01-10T05:43:23.474Z"
   },
   {
    "duration": 13,
    "start_time": "2025-01-10T05:43:35.321Z"
   },
   {
    "duration": 40,
    "start_time": "2025-01-10T05:43:41.707Z"
   },
   {
    "duration": 13,
    "start_time": "2025-01-10T05:43:45.098Z"
   },
   {
    "duration": 4,
    "start_time": "2025-01-10T05:44:59.124Z"
   },
   {
    "duration": 3340,
    "start_time": "2025-01-10T05:45:58.896Z"
   },
   {
    "duration": 18,
    "start_time": "2025-01-10T05:46:14.448Z"
   },
   {
    "duration": 2236,
    "start_time": "2025-01-10T05:46:57.176Z"
   },
   {
    "duration": 3914,
    "start_time": "2025-01-10T05:47:54.968Z"
   },
   {
    "duration": 3731,
    "start_time": "2025-01-10T05:48:57.048Z"
   },
   {
    "duration": 157,
    "start_time": "2025-01-10T05:50:31.941Z"
   },
   {
    "duration": 12,
    "start_time": "2025-01-10T05:52:14.373Z"
   },
   {
    "duration": 12,
    "start_time": "2025-01-10T05:52:17.308Z"
   },
   {
    "duration": 696,
    "start_time": "2025-01-10T05:53:08.924Z"
   },
   {
    "duration": 13,
    "start_time": "2025-01-10T05:53:24.357Z"
   },
   {
    "duration": 14,
    "start_time": "2025-01-10T05:57:24.418Z"
   },
   {
    "duration": 13,
    "start_time": "2025-01-10T05:57:28.584Z"
   },
   {
    "duration": 14,
    "start_time": "2025-01-10T05:58:55.767Z"
   },
   {
    "duration": 13,
    "start_time": "2025-01-10T05:58:59.439Z"
   },
   {
    "duration": 12,
    "start_time": "2025-01-10T06:01:34.623Z"
   },
   {
    "duration": 7,
    "start_time": "2025-01-10T06:03:18.099Z"
   },
   {
    "duration": 5,
    "start_time": "2025-01-10T06:04:20.714Z"
   },
   {
    "duration": 5,
    "start_time": "2025-01-10T06:06:42.714Z"
   },
   {
    "duration": 3,
    "start_time": "2025-01-10T06:06:55.616Z"
   },
   {
    "duration": 166,
    "start_time": "2025-03-20T17:48:36.975Z"
   },
   {
    "duration": 13,
    "start_time": "2025-03-20T17:49:01.536Z"
   },
   {
    "duration": 12,
    "start_time": "2025-03-20T17:49:09.876Z"
   },
   {
    "duration": 12,
    "start_time": "2025-03-20T17:50:56.151Z"
   },
   {
    "duration": 304,
    "start_time": "2025-03-20T17:51:01.923Z"
   },
   {
    "duration": 2258,
    "start_time": "2025-03-20T17:51:03.364Z"
   },
   {
    "duration": 395,
    "start_time": "2025-03-20T17:51:19.153Z"
   },
   {
    "duration": 3,
    "start_time": "2025-03-20T17:52:01.053Z"
   },
   {
    "duration": 717,
    "start_time": "2025-03-20T17:52:32.362Z"
   },
   {
    "duration": 161,
    "start_time": "2025-03-20T17:53:31.994Z"
   },
   {
    "duration": 766,
    "start_time": "2025-03-20T17:53:58.202Z"
   },
   {
    "duration": 946,
    "start_time": "2025-03-20T17:54:42.557Z"
   },
   {
    "duration": 32,
    "start_time": "2025-03-20T17:54:55.150Z"
   },
   {
    "duration": 52,
    "start_time": "2025-03-20T17:55:29.997Z"
   },
   {
    "duration": 5,
    "start_time": "2025-03-20T17:55:57.618Z"
   },
   {
    "duration": 2064,
    "start_time": "2025-03-20T17:56:46.490Z"
   },
   {
    "duration": 2016,
    "start_time": "2025-03-20T17:57:09.236Z"
   },
   {
    "duration": 71,
    "start_time": "2025-03-20T17:59:37.853Z"
   },
   {
    "duration": 6,
    "start_time": "2025-03-20T18:02:06.797Z"
   },
   {
    "duration": 4,
    "start_time": "2025-03-20T18:02:48.875Z"
   },
   {
    "duration": 4,
    "start_time": "2025-03-20T18:02:54.495Z"
   },
   {
    "duration": 5,
    "start_time": "2025-03-20T18:03:00.334Z"
   },
   {
    "duration": 3,
    "start_time": "2025-03-20T18:03:08.613Z"
   },
   {
    "duration": 2,
    "start_time": "2025-03-20T18:03:43.800Z"
   }
  ],
  "colab": {
   "provenance": []
  },
  "kernelspec": {
   "display_name": "Python [conda env:base] *",
   "language": "python",
   "name": "conda-base-py"
  },
  "language_info": {
   "codemirror_mode": {
    "name": "ipython",
    "version": 3
   },
   "file_extension": ".py",
   "mimetype": "text/x-python",
   "name": "python",
   "nbconvert_exporter": "python",
   "pygments_lexer": "ipython3",
   "version": "3.12.7"
  },
  "toc": {
   "base_numbering": 1,
   "nav_menu": {},
   "number_sections": true,
   "sideBar": true,
   "skip_h1_title": true,
   "title_cell": "Table of Contents",
   "title_sidebar": "Contents",
   "toc_cell": false,
   "toc_position": {},
   "toc_section_display": true,
   "toc_window_display": false
  },
  "vscode": {
   "interpreter": {
    "hash": "01a7be9ec63e704a62cefc5fe7a4756944464ee731be31632bdf42a4cb4688cf"
   }
  }
 },
 "nbformat": 4,
 "nbformat_minor": 5
}
