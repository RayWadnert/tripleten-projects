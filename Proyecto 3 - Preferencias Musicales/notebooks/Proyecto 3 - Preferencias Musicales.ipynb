{
 "cells": [
  {
   "cell_type": "markdown",
   "metadata": {
    "id": "E0vqbgi9ay0H"
   },
   "source": [
    "# Análisis de Preferencias Musicales entre Springfield y Shelbyville"
   ]
  },
  {
   "cell_type": "markdown",
   "metadata": {
    "id": "VUC88oWjTJw2"
   },
   "source": [
    "# 1. Introducción\n",
    "\n",
    "Este proyecto tiene como propósito analizar las preferencias musicales de los usuarios de dos ciudades ficticias: Springfield y Shelbyville. A partir de un conjunto de datos de transmisión musical en línea, se busca comprobar si existen diferencias significativas en el comportamiento de los usuarios según el día de la semana y la ciudad en la que residen.\n",
    "\n",
    "El análisis incluye tres etapas principales: revisión de los datos, preprocesamiento y prueba de hipótesis. Este enfoque simula el flujo de trabajo habitual de un analista de datos, quien debe validar supuestos a partir de evidencia empírica y comunicar los hallazgos de forma estructurada.\n",
    "\n",
    "**Objetivo**\n",
    "\n",
    "El objetivo principal es comprobar la siguiente hipótesis:\n",
    "\n",
    "> **La actividad de los usuarios varía según el día de la semana y la ciudad.**\n",
    "\n",
    "**Etapas**\n",
    "\n",
    "Los datos utilizados se encuentran en el archivo `/datasets/music_project_en.csv`. No se dispone de información previa sobre la calidad del conjunto de datos, por lo que es necesario evaluarla antes de aplicar cualquier análisis.\n",
    "\n",
    "El proyecto se divide en tres etapas:\n",
    "\n",
    "1. Revisión inicial de los datos\n",
    "2. Preprocesamiento y limpieza\n",
    "3. Prueba de hipótesis\n",
    "\n",
    "\n",
    "\n",
    "\n",
    "\n"
   ]
  },
  {
   "cell_type": "markdown",
   "metadata": {
    "id": "Ml1hmfXC_Zcs"
   },
   "source": [
    "# 2. Revisión inicial de los datos\n",
    "\n",
    "Se inicia el análisis cargando el archivo `music_project_en.csv` y revisando sus primeras filas y estructura general. Esto permite tener una visión preliminar sobre los datos disponibles y su formato.\n"
   ]
  },
  {
   "cell_type": "code",
   "execution_count": 82,
   "metadata": {
    "colab": {
     "base_uri": "https://localhost:8080/",
     "height": 159
    },
    "id": "oWTVX3gW_Zct",
    "outputId": "f4ce40e9-a2bf-4965-932d-7133bfcc9384"
   },
   "outputs": [
    {
     "name": "stdout",
     "output_type": "stream",
     "text": [
      "     userID                        Track            artist   genre  \\\n",
      "0  FFB692EC            Kamigata To Boots  The Mass Missile    rock   \n",
      "1  55204538  Delayed Because of Accident  Andreas Rönnberg    rock   \n",
      "2    20EC38            Funiculì funiculà       Mario Lanza     pop   \n",
      "3  A3DD03C9        Dragons in the Sunset        Fire + Ice    folk   \n",
      "4  E2DC1FAE                  Soul People        Space Echo   dance   \n",
      "5  842029A1                       Chains          Obladaet  rusrap   \n",
      "6  4CB90AA5                         True      Roman Messer   dance   \n",
      "7  F03E1C1F             Feeling This Way   Polina Griffith   dance   \n",
      "8  8FA1D3BE                     L’estate       Julia Dalia  ruspop   \n",
      "9  E772D5C0                    Pessimist               NaN   dance   \n",
      "\n",
      "        City        time        Day  \n",
      "0  Shelbyville  20:28:33  Wednesday  \n",
      "1  Springfield  14:07:09     Friday  \n",
      "2  Shelbyville  20:58:07  Wednesday  \n",
      "3  Shelbyville  08:37:09     Monday  \n",
      "4  Springfield  08:34:34     Monday  \n",
      "5  Shelbyville  13:09:41     Friday  \n",
      "6  Springfield  13:00:07  Wednesday  \n",
      "7  Springfield  20:47:49  Wednesday  \n",
      "8  Springfield  09:17:40     Friday  \n",
      "9  Shelbyville  21:20:49  Wednesday  \n",
      "<class 'pandas.core.frame.DataFrame'>\n",
      "RangeIndex: 65079 entries, 0 to 65078\n",
      "Data columns (total 7 columns):\n",
      " #   Column    Non-Null Count  Dtype \n",
      "---  ------    --------------  ----- \n",
      " 0     userID  65079 non-null  object\n",
      " 1   Track     63736 non-null  object\n",
      " 2   artist    57512 non-null  object\n",
      " 3   genre     63881 non-null  object\n",
      " 4     City    65079 non-null  object\n",
      " 5   time      65079 non-null  object\n",
      " 6   Day       65079 non-null  object\n",
      "dtypes: object(7)\n",
      "memory usage: 3.5+ MB\n",
      "None\n"
     ]
    }
   ],
   "source": [
    "# Importar librería y cargar el conjunto de datos\n",
    "import pandas as pd\n",
    "\n",
    "df = pd.read_csv(r\"D:\\Datasets\\music_project_en.csv\")\n",
    "\n",
    "# Mostrar las primeras 10 filas del DataFrame\n",
    "print(df.head(10))\n",
    "\n",
    "# Mostrar información general del DataFrame\n",
    "print(df.info())"
   ]
  },
  {
   "cell_type": "markdown",
   "metadata": {
    "id": "TaQ2Iwbr_Zct"
   },
   "source": [
    "El conjunto de datos contiene 65,079 registros distribuidos en siete columnas. Todas las columnas están tipadas como `object`, por lo que se deberá evaluar si es necesario convertir algunas a otros formatos. A continuación se detallan las variables presentes:\n",
    "\n",
    "- `userID`: identificador del usuario o la usuaria.\n",
    "- `Track`: título de la canción.\n",
    "- `artist`: nombre del artista.\n",
    "- `genre`: género de la pista.\n",
    "- `City`: ciudad en la que se reprodujo la canción.\n",
    "- `time`: hora exacta de reproducción.\n",
    "- `Day`: día de la semana.\n",
    "\n",
    "**Posibles problemas detectados:**\n",
    "\n",
    "- Algunos encabezados están en mayúsculas, otros en minúsculas.\n",
    "- Hay espacios y formatos inconsistentes en los nombres de las columnas.\n",
    "- Existen valores nulos en las columnas `Track`, `artist` y `genre`.\n",
    "- Pueden existir registros duplicados.\n",
    "\n",
    "Los datos parecen suficientes para el análisis, pero será necesario aplicar limpieza antes de realizar una prueba de hipótesis.\n"
   ]
  },
  {
   "cell_type": "markdown",
   "metadata": {
    "id": "SjYF6Ub9_Zct"
   },
   "source": [
    "# 3. Preprocesamiento de datos\n",
    "\n",
    "En esta sección se preparan los datos para su análisis. El primer paso consiste en corregir los encabezados, que presentan inconsistencias de formato. Posteriormente se tratarán los valores ausentes y duplicados.\n",
    "\n",
    "**Limpieza de los nombres de columnas**\n",
    "\n",
    "Al visualizar los encabezados, se detectan problemas como:\n",
    "- Uso de mayúsculas y minúsculas inconsistentes.\n",
    "- Espacios innecesarios.\n",
    "- Nombres sin formato estandarizado (snake_case).\n",
    "\n",
    "Se aplicarán transformaciones para garantizar que los nombres sean claros y uniformes.\n"
   ]
  },
  {
   "cell_type": "code",
   "execution_count": 86,
   "metadata": {
    "colab": {
     "base_uri": "https://localhost:8080/",
     "height": 159
    },
    "id": "oKOTdF_Q_Zct",
    "outputId": "4b2efde4-e823-42c2-c8ec-c18eac0b8221"
   },
   "outputs": [
    {
     "name": "stdout",
     "output_type": "stream",
     "text": [
      "Index(['  userID', 'Track', 'artist', 'genre', '  City  ', 'time', 'Day'], dtype='object')\n",
      "Index(['user_id', 'track', 'artist', 'genre', 'city', 'time', 'day'], dtype='object')\n"
     ]
    }
   ],
   "source": [
    "# Mostrar los nombres originales de las columnas\n",
    "print(df.columns)\n",
    "\n",
    "# Convertir a minúsculas\n",
    "df.columns = [col.lower() for col in df.columns]\n",
    "\n",
    "# Eliminar espacios en blanco\n",
    "df.columns = [col.strip() for col in df.columns]\n",
    "\n",
    "# Corregir nombre específico a snake_case\n",
    "df.rename(columns={'userid': 'user_id'}, inplace=True)\n",
    "\n",
    "# Comprobar resultado final\n",
    "print(df.columns)"
   ]
  },
  {
   "cell_type": "markdown",
   "metadata": {
    "id": "zj5534cv_Zct"
   },
   "source": [
    "Tras aplicar estas transformaciones, los encabezados quedan en formato limpio y estandarizado.  \n",
    "Por ejemplo, `userID` fue renombrado correctamente como `user_id`, y todas las columnas ahora están en minúsculas y sin espacios.\n",
    "\n",
    "Este formato facilitará el análisis posterior"
   ]
  },
  {
   "cell_type": "markdown",
   "metadata": {
    "id": "5ISfbcfY_Zct"
   },
   "source": [
    "**Valores ausentes**\n",
    "\n",
    "A continuación se evalúan los valores ausentes en el conjunto de datos. Si bien no todos afectan directamente el análisis, es importante tratarlos para evitar errores en etapas posteriores.\n",
    "\n",
    "Las columnas `track` y `artist` presentan valores faltantes que no afectan de forma crítica el análisis. Se reemplazarán con el valor `'unknown'` para mantener consistencia.\n",
    "\n",
    "Sin embargo, los valores ausentes en `genre` podrían influir en los resultados, ya que esta columna está relacionada con las preferencias musicales. Por lo tanto, también será tratada de forma similar.\n",
    "\n",
    "Se aplicará una estrategia de imputación simple reemplazando los valores ausentes con `'unknown'` en las tres columnas mencionadas.\n"
   ]
  },
  {
   "cell_type": "code",
   "execution_count": 90,
   "metadata": {
    "id": "RskX29qr_Zct"
   },
   "outputs": [
    {
     "name": "stdout",
     "output_type": "stream",
     "text": [
      "Valores ausentes antes del reemplazo:\n",
      " user_id       0\n",
      "track      1343\n",
      "artist     7567\n",
      "genre      1198\n",
      "city          0\n",
      "time          0\n",
      "day           0\n",
      "dtype: int64\n",
      "\n",
      "Valores ausentes después del reemplazo:\n",
      " user_id    0\n",
      "track      0\n",
      "artist     0\n",
      "genre      0\n",
      "city       0\n",
      "time       0\n",
      "day        0\n",
      "dtype: int64\n"
     ]
    }
   ],
   "source": [
    "# Calcular el número de valores ausentes antes del reemplazo\n",
    "valores_ausentes = df.isnull().sum()\n",
    "print(\"Valores ausentes antes del reemplazo:\\n\", valores_ausentes)\n",
    "\n",
    "# Reemplazar valores ausentes por 'unknown'\n",
    "columnas = ['track', 'artist', 'genre']\n",
    "for col in columnas:\n",
    "    df[col] = df[col].fillna('unknown')\n",
    "\n",
    "# Verificar si aún existen valores ausentes\n",
    "valores_ausentes_reemplazados = df.isnull().sum()\n",
    "print(\"\\nValores ausentes después del reemplazo:\\n\", valores_ausentes_reemplazados)\n"
   ]
  },
  {
   "cell_type": "markdown",
   "metadata": {
    "id": "qubhgnlO_Zct"
   },
   "source": [
    "Luego del reemplazo, ya no quedan valores nulos en las columnas seleccionadas. Esto asegura que las futuras operaciones de agrupamiento y comparación no se vean afectadas por datos faltantes."
   ]
  },
  {
   "cell_type": "markdown",
   "metadata": {
    "id": "BWKRtBJ3_Zct"
   },
   "source": [
    "**Limpieza de duplicados**\n",
    "\n",
    "A continuación se realiza la eliminación de duplicados tanto explícitos como implícitos en el conjunto de datos.\n",
    "\n",
    "Los duplicados explícitos corresponden a filas completamente idénticas, mientras que los duplicados implícitos se manifiestan como errores de escritura en columnas clave, como `genre`.\n",
    "\n",
    "Se comienza revisando la existencia de duplicados explícitos y eliminándolos del DataFrame.\n"
   ]
  },
  {
   "cell_type": "code",
   "execution_count": 94,
   "metadata": {
    "id": "36eES_S0_Zct"
   },
   "outputs": [
    {
     "name": "stdout",
     "output_type": "stream",
     "text": [
      "Número de duplicados antes de la eliminación: 3826\n",
      "Número de duplicados después de la eliminación: 0\n"
     ]
    }
   ],
   "source": [
    "# Contar y eliminar duplicados explícitos\n",
    "duplicados = df.duplicated().sum()\n",
    "print(f\"Número de duplicados antes de la eliminación: {duplicados}\")\n",
    "\n",
    "df = df.drop_duplicates()\n",
    "\n",
    "duplicados_2 = df.duplicated().sum()\n",
    "print(f\"Número de duplicados después de la eliminación: {duplicados_2}\")\n"
   ]
  },
  {
   "cell_type": "code",
   "execution_count": 96,
   "metadata": {
    "id": "exFHq6tt_Zct"
   },
   "outputs": [
    {
     "name": "stdout",
     "output_type": "stream",
     "text": [
      "Valores únicos antes de la corrección:\n",
      "['acid', 'acoustic', 'action', 'adult', 'africa', 'afrikaans', 'alternative', 'ambient', 'americana', 'animated', 'anime', 'arabesk', 'arabic', 'arena', 'argentinetango', 'art', 'audiobook', 'avantgarde', 'axé', 'baile', 'balkan', 'beats', 'bigroom', 'black', 'bluegrass', 'blues', 'bollywood', 'bossa', 'brazilian', 'breakbeat', 'breaks', 'broadway', 'cantautori', 'cantopop', 'canzone', 'caribbean', 'caucasian', 'celtic', 'chamber', 'children', 'chill', 'chinese', 'choral', 'christian', 'christmas', 'classical', 'classicmetal', 'club', 'colombian', 'comedy', 'conjazz', 'contemporary', 'country', 'cuban', 'dance', 'dancehall', 'dancepop', 'dark', 'death', 'deep', 'deutschrock', 'deutschspr', 'dirty', 'disco', 'dnb', 'documentary', 'downbeat', 'downtempo', 'drum', 'dub', 'dubstep', 'eastern', 'easy', 'electronic', 'electropop', 'emo', 'entehno', 'epicmetal', 'estrada', 'ethnic', 'eurofolk', 'european', 'experimental', 'extrememetal', 'fado', 'film', 'fitness', 'flamenco', 'folk', 'folklore', 'folkmetal', 'folkrock', 'folktronica', 'forró', 'frankreich', 'französisch', 'french', 'funk', 'future', 'gangsta', 'garage', 'german', 'ghazal', 'gitarre', 'glitch', 'gospel', 'gothic', 'grime', 'grunge', 'gypsy', 'handsup', \"hard'n'heavy\", 'hardcore', 'hardstyle', 'hardtechno', 'hip', 'hip-hop', 'hiphop', 'historisch', 'holiday', 'hop', 'horror', 'house', 'idm', 'independent', 'indian', 'indie', 'indipop', 'industrial', 'inspirational', 'instrumental', 'international', 'irish', 'jam', 'japanese', 'jazz', 'jewish', 'jpop', 'jungle', 'k-pop', 'karadeniz', 'karaoke', 'kayokyoku', 'korean', 'laiko', 'latin', 'latino', 'leftfield', 'local', 'lounge', 'loungeelectronic', 'lovers', 'malaysian', 'mandopop', 'marschmusik', 'meditative', 'mediterranean', 'melodic', 'metal', 'metalcore', 'mexican', 'middle', 'minimal', 'miscellaneous', 'modern', 'mood', 'mpb', 'muslim', 'native', 'neoklassik', 'neue', 'new', 'newage', 'newwave', 'nu', 'nujazz', 'numetal', 'oceania', 'old', 'opera', 'orchestral', 'other', 'piano', 'pop', 'popelectronic', 'popeurodance', 'post', 'posthardcore', 'postrock', 'power', 'progmetal', 'progressive', 'psychedelic', 'punjabi', 'punk', 'quebecois', 'ragga', 'ram', 'rancheras', 'rap', 'rave', 'reggae', 'reggaeton', 'regional', 'relax', 'religious', 'retro', 'rhythm', 'rnb', 'rnr', 'rock', 'rockabilly', 'romance', 'roots', 'ruspop', 'rusrap', 'rusrock', 'salsa', 'samba', 'schlager', 'self', 'sertanejo', 'shoegazing', 'showtunes', 'singer', 'ska', 'slow', 'smooth', 'soul', 'soulful', 'sound', 'soundtrack', 'southern', 'specialty', 'speech', 'spiritual', 'sport', 'stonerrock', 'surf', 'swing', 'synthpop', 'sängerportrait', 'tango', 'tanzorchester', 'taraftar', 'tech', 'techno', 'thrash', 'top', 'traditional', 'tradjazz', 'trance', 'tribal', 'trip', 'triphop', 'tropical', 'türk', 'türkçe', 'unknown', 'urban', 'uzbek', 'variété', 'vi', 'videogame', 'vocal', 'western', 'world', 'worldbeat', 'ïîï']\n",
      "\n",
      "Valores únicos después de la corrección:\n",
      "['acid', 'acoustic', 'action', 'adult', 'africa', 'afrikaans', 'alternative', 'ambient', 'americana', 'animated', 'anime', 'arabesk', 'arabic', 'arena', 'argentinetango', 'art', 'audiobook', 'avantgarde', 'axé', 'baile', 'balkan', 'beats', 'bigroom', 'black', 'bluegrass', 'blues', 'bollywood', 'bossa', 'brazilian', 'breakbeat', 'breaks', 'broadway', 'cantautori', 'cantopop', 'canzone', 'caribbean', 'caucasian', 'celtic', 'chamber', 'children', 'chill', 'chinese', 'choral', 'christian', 'christmas', 'classical', 'classicmetal', 'club', 'colombian', 'comedy', 'conjazz', 'contemporary', 'country', 'cuban', 'dance', 'dancehall', 'dancepop', 'dark', 'death', 'deep', 'deutschrock', 'deutschspr', 'dirty', 'disco', 'dnb', 'documentary', 'downbeat', 'downtempo', 'drum', 'dub', 'dubstep', 'eastern', 'easy', 'electronic', 'electropop', 'emo', 'entehno', 'epicmetal', 'estrada', 'ethnic', 'eurofolk', 'european', 'experimental', 'extrememetal', 'fado', 'film', 'fitness', 'flamenco', 'folk', 'folklore', 'folkmetal', 'folkrock', 'folktronica', 'forró', 'frankreich', 'französisch', 'french', 'funk', 'future', 'gangsta', 'garage', 'german', 'ghazal', 'gitarre', 'glitch', 'gospel', 'gothic', 'grime', 'grunge', 'gypsy', 'handsup', \"hard'n'heavy\", 'hardcore', 'hardstyle', 'hardtechno', 'hiphop', 'historisch', 'holiday', 'horror', 'house', 'idm', 'independent', 'indian', 'indie', 'indipop', 'industrial', 'inspirational', 'instrumental', 'international', 'irish', 'jam', 'japanese', 'jazz', 'jewish', 'jpop', 'jungle', 'k-pop', 'karadeniz', 'karaoke', 'kayokyoku', 'korean', 'laiko', 'latin', 'latino', 'leftfield', 'local', 'lounge', 'loungeelectronic', 'lovers', 'malaysian', 'mandopop', 'marschmusik', 'meditative', 'mediterranean', 'melodic', 'metal', 'metalcore', 'mexican', 'middle', 'minimal', 'miscellaneous', 'modern', 'mood', 'mpb', 'muslim', 'native', 'neoklassik', 'neue', 'new', 'newage', 'newwave', 'nu', 'nujazz', 'numetal', 'oceania', 'old', 'opera', 'orchestral', 'other', 'piano', 'pop', 'popelectronic', 'popeurodance', 'post', 'posthardcore', 'postrock', 'power', 'progmetal', 'progressive', 'psychedelic', 'punjabi', 'punk', 'quebecois', 'ragga', 'ram', 'rancheras', 'rap', 'rave', 'reggae', 'reggaeton', 'regional', 'relax', 'religious', 'retro', 'rhythm', 'rnb', 'rnr', 'rock', 'rockabilly', 'romance', 'roots', 'ruspop', 'rusrap', 'rusrock', 'salsa', 'samba', 'schlager', 'self', 'sertanejo', 'shoegazing', 'showtunes', 'singer', 'ska', 'slow', 'smooth', 'soul', 'soulful', 'sound', 'soundtrack', 'southern', 'specialty', 'speech', 'spiritual', 'sport', 'stonerrock', 'surf', 'swing', 'synthpop', 'sängerportrait', 'tango', 'tanzorchester', 'taraftar', 'tech', 'techno', 'thrash', 'top', 'traditional', 'tradjazz', 'trance', 'tribal', 'trip', 'triphop', 'tropical', 'türk', 'türkçe', 'unknown', 'urban', 'uzbek', 'variété', 'vi', 'videogame', 'vocal', 'western', 'world', 'worldbeat', 'ïîï']\n"
     ]
    }
   ],
   "source": [
    "# Revisar los géneros únicos antes de la corrección\n",
    "print(\"Valores únicos antes de la corrección:\")\n",
    "print(sorted(df['genre'].unique()))\n",
    "\n",
    "# Definir función de reemplazo\n",
    "def replace_wrong_genres(column, wrong_genres, correct_genre):\n",
    "    for wrong in wrong_genres:\n",
    "        column.replace(wrong, correct_genre, inplace=True)\n",
    "\n",
    "# Reemplazar duplicados implícitos en 'genre'\n",
    "wrong_genres = ['hip', 'hop', 'hip-hop']\n",
    "correct_genre = 'hiphop'\n",
    "\n",
    "replace_wrong_genres(df['genre'], wrong_genres, correct_genre)\n",
    "\n",
    "# Verificar cambios\n",
    "print(\"\\nValores únicos después de la corrección:\")\n",
    "print(sorted(df['genre'].unique()))\n"
   ]
  },
  {
   "cell_type": "markdown",
   "metadata": {
    "id": "Im2YwBEG_Zct"
   },
   "source": [
    "Se eliminaron correctamente los duplicados explícitos del conjunto de datos.  \n",
    "Además, se corrigieron los duplicados implícitos asociados al género musical \"hiphop\", consolidando las variantes `hip`, `hop` y `hip-hop` bajo una sola categoría uniforme."
   ]
  },
  {
   "cell_type": "markdown",
   "metadata": {
    "id": "WttZHXH0SqKk"
   },
   "source": [
    "# 4. Prueba de hipótesis\n",
    "\n",
    "El objetivo de esta etapa es comprobar si existen diferencias en el comportamiento musical entre los usuarios de Springfield y Shelbyville, considerando tres días específicos: lunes, miércoles y viernes.\n",
    "\n",
    "Para ello se agruparon los datos por ciudad y por día, comparando la cantidad de canciones reproducidas por cada grupo. Además, se implementó una función personalizada para contar las canciones reproducidas por ciudad y por día, facilitando la comparación entre ambas localidades.\n"
   ]
  },
  {
   "cell_type": "code",
   "execution_count": 101,
   "metadata": {
    "id": "0_Qs96oh_Zcu"
   },
   "outputs": [
    {
     "name": "stdout",
     "output_type": "stream",
     "text": [
      "city\n",
      "Shelbyville    18512\n",
      "Springfield    42741\n",
      "Name: track, dtype: int64\n"
     ]
    }
   ],
   "source": [
    "# Agrupar por ciudad y contar la cantidad de canciones reproducidas\n",
    "canciones_por_ciudad = df.groupby('city')['track'].count()\n",
    "print(canciones_por_ciudad)"
   ]
  },
  {
   "cell_type": "code",
   "execution_count": 103,
   "metadata": {
    "id": "uZMKjiJz_Zcu"
   },
   "outputs": [
    {
     "name": "stdout",
     "output_type": "stream",
     "text": [
      "day        city       \n",
      "Friday     Shelbyville     5895\n",
      "           Springfield    15945\n",
      "Monday     Shelbyville     5614\n",
      "           Springfield    15740\n",
      "Wednesday  Shelbyville     7003\n",
      "           Springfield    11056\n",
      "Name: track, dtype: int64\n"
     ]
    }
   ],
   "source": [
    "# Agrupar por día (lunes, miércoles, viernes) y ciudad\n",
    "canciones_por_dia_y_ciudad = df[df['day'].isin(['Monday', 'Wednesday', 'Friday'])].groupby(['day', 'city'])['track'].count()\n",
    "print(canciones_por_dia_y_ciudad)"
   ]
  },
  {
   "cell_type": "code",
   "execution_count": 107,
   "metadata": {
    "id": "Nz3GdQB1_Zcu"
   },
   "outputs": [],
   "source": [
    "def number_tracks(day, city):\n",
    "    filtered = df[(df['day'] == day) & (df['city'] == city)]\n",
    "    return filtered['user_id'].count()"
   ]
  },
  {
   "cell_type": "code",
   "execution_count": 109,
   "metadata": {
    "id": "rJcRATNQ_Zcu"
   },
   "outputs": [
    {
     "name": "stdout",
     "output_type": "stream",
     "text": [
      "Springfield - Lunes: 15740\n",
      "Shelbyville - Lunes: 5614\n",
      "Springfield - Miércoles: 11056\n",
      "Shelbyville - Miércoles: 7003\n",
      "Springfield - Viernes: 15945\n",
      "Shelbyville - Viernes: 5895\n"
     ]
    }
   ],
   "source": [
    "# Resultados para cada ciudad y cada día\n",
    "print(\"Springfield - Lunes:\", number_tracks('Monday', 'Springfield'))\n",
    "print(\"Shelbyville - Lunes:\", number_tracks('Monday', 'Shelbyville'))\n",
    "print(\"Springfield - Miércoles:\", number_tracks('Wednesday', 'Springfield'))\n",
    "print(\"Shelbyville - Miércoles:\", number_tracks('Wednesday', 'Shelbyville'))\n",
    "print(\"Springfield - Viernes:\", number_tracks('Friday', 'Springfield'))\n",
    "print(\"Shelbyville - Viernes:\", number_tracks('Friday', 'Shelbyville'))"
   ]
  },
  {
   "cell_type": "markdown",
   "metadata": {
    "id": "ykKQ0N65_Zcv"
   },
   "source": [
    "# 5. Conclusiones\n",
    "\n",
    "Los resultados confirman que existen diferencias en el consumo de música entre las ciudades de Springfield y Shelbyville según el día de la semana. Por ejemplo, en algunos días una ciudad presenta significativamente mayor número de reproducciones que la otra, lo que sugiere que el comportamiento musical no es homogéneo entre ambas localidades.\n",
    "\n",
    "Es importante tener en cuenta que estas conclusiones se basan en una muestra limitada y podrían no representar el comportamiento real de toda la población. En contextos reales, se requeriría un análisis estadístico más riguroso para validar estas hipótesis.\n",
    "\n",
    "Este análisis exploratorio proporciona una base sólida para futuras investigaciones más avanzadas con técnicas estadísticas y muestras más amplias.\n"
   ]
  }
 ],
 "metadata": {
  "ExecuteTimeLog": [
   {
    "duration": 328,
    "start_time": "2024-12-06T03:07:01.546Z"
   },
   {
    "duration": 117,
    "start_time": "2024-12-06T03:07:03.091Z"
   },
   {
    "duration": 8,
    "start_time": "2024-12-06T03:07:05.108Z"
   },
   {
    "duration": 25,
    "start_time": "2024-12-06T03:07:07.172Z"
   },
   {
    "duration": 3,
    "start_time": "2024-12-06T03:07:16.123Z"
   },
   {
    "duration": 3,
    "start_time": "2024-12-06T03:07:18.450Z"
   },
   {
    "duration": 3,
    "start_time": "2024-12-06T03:07:20.294Z"
   },
   {
    "duration": 2,
    "start_time": "2024-12-06T03:07:21.771Z"
   },
   {
    "duration": 3,
    "start_time": "2024-12-06T03:07:23.897Z"
   },
   {
    "duration": 17,
    "start_time": "2024-12-06T03:07:38.583Z"
   },
   {
    "duration": 183,
    "start_time": "2024-12-06T03:07:40.318Z"
   },
   {
    "duration": 11,
    "start_time": "2024-12-06T03:08:00.511Z"
   },
   {
    "duration": 14,
    "start_time": "2024-12-06T03:08:03.877Z"
   },
   {
    "duration": 49,
    "start_time": "2024-12-06T03:08:30.454Z"
   },
   {
    "duration": 3,
    "start_time": "2024-12-06T03:08:36.230Z"
   },
   {
    "duration": 14,
    "start_time": "2024-12-06T03:08:37.942Z"
   },
   {
    "duration": 9,
    "start_time": "2024-12-06T03:09:06.252Z"
   },
   {
    "duration": 22,
    "start_time": "2024-12-06T03:09:09.619Z"
   },
   {
    "duration": 3,
    "start_time": "2024-12-06T03:09:12.319Z"
   },
   {
    "duration": 15,
    "start_time": "2024-12-06T03:09:14.646Z"
   },
   {
    "duration": 14,
    "start_time": "2024-12-06T03:09:16.793Z"
   },
   {
    "duration": 12,
    "start_time": "2024-12-06T03:09:18.250Z"
   },
   {
    "duration": 13,
    "start_time": "2024-12-06T03:09:20.553Z"
   },
   {
    "duration": 16,
    "start_time": "2024-12-06T03:09:22.291Z"
   },
   {
    "duration": 13,
    "start_time": "2024-12-06T03:09:23.584Z"
   },
   {
    "duration": 160,
    "start_time": "2024-12-08T20:18:38.960Z"
   },
   {
    "duration": 13,
    "start_time": "2024-12-08T20:20:37.288Z"
   },
   {
    "duration": 11,
    "start_time": "2024-12-08T20:20:39.975Z"
   },
   {
    "duration": 2,
    "start_time": "2024-12-08T20:20:44.462Z"
   },
   {
    "duration": 16,
    "start_time": "2024-12-08T20:20:46.316Z"
   },
   {
    "duration": 2,
    "start_time": "2024-12-08T20:27:15.322Z"
   },
   {
    "duration": 3,
    "start_time": "2024-12-08T20:27:17.475Z"
   },
   {
    "duration": 14,
    "start_time": "2024-12-08T20:27:21.221Z"
   },
   {
    "duration": 12,
    "start_time": "2024-12-08T20:27:42.043Z"
   },
   {
    "duration": 3,
    "start_time": "2024-12-08T20:27:50.691Z"
   },
   {
    "duration": 15,
    "start_time": "2024-12-08T20:27:52.234Z"
   },
   {
    "duration": 33,
    "start_time": "2024-12-08T20:28:07.691Z"
   },
   {
    "duration": 20,
    "start_time": "2024-12-08T20:28:36.716Z"
   },
   {
    "duration": 3,
    "start_time": "2024-12-08T20:30:18.783Z"
   },
   {
    "duration": 11,
    "start_time": "2024-12-08T20:31:06.813Z"
   },
   {
    "duration": 12,
    "start_time": "2024-12-08T20:32:55.414Z"
   },
   {
    "duration": 12,
    "start_time": "2024-12-08T20:33:50.194Z"
   },
   {
    "duration": 12,
    "start_time": "2024-12-08T20:34:07.045Z"
   },
   {
    "duration": 17,
    "start_time": "2024-12-08T20:34:24.520Z"
   },
   {
    "duration": 16,
    "start_time": "2024-12-08T20:35:12.861Z"
   },
   {
    "duration": 3,
    "start_time": "2024-12-08T20:38:44.980Z"
   },
   {
    "duration": 3,
    "start_time": "2024-12-08T20:38:46.747Z"
   },
   {
    "duration": 2,
    "start_time": "2024-12-08T20:39:38.091Z"
   },
   {
    "duration": 163,
    "start_time": "2024-12-09T19:06:12.641Z"
   },
   {
    "duration": 320,
    "start_time": "2024-12-09T19:06:18.365Z"
   },
   {
    "duration": 116,
    "start_time": "2024-12-09T19:06:19.789Z"
   },
   {
    "duration": 3,
    "start_time": "2024-12-09T19:06:23.588Z"
   },
   {
    "duration": 3,
    "start_time": "2024-12-09T19:06:24.807Z"
   },
   {
    "duration": 3,
    "start_time": "2024-12-09T19:06:25.995Z"
   },
   {
    "duration": 3,
    "start_time": "2024-12-09T19:06:29.902Z"
   },
   {
    "duration": 3,
    "start_time": "2024-12-09T19:06:31.629Z"
   },
   {
    "duration": 3,
    "start_time": "2024-12-09T19:06:32.507Z"
   },
   {
    "duration": 3,
    "start_time": "2024-12-09T19:06:35.981Z"
   },
   {
    "duration": 12,
    "start_time": "2024-12-09T19:06:38.777Z"
   },
   {
    "duration": 19,
    "start_time": "2024-12-09T19:06:41.866Z"
   }
  ],
  "colab": {
   "collapsed_sections": [
    "E0vqbgi9ay0H",
    "VUC88oWjTJw2"
   ],
   "provenance": []
  },
  "kernelspec": {
   "display_name": "Python [conda env:base] *",
   "language": "python",
   "name": "conda-base-py"
  },
  "language_info": {
   "codemirror_mode": {
    "name": "ipython",
    "version": 3
   },
   "file_extension": ".py",
   "mimetype": "text/x-python",
   "name": "python",
   "nbconvert_exporter": "python",
   "pygments_lexer": "ipython3",
   "version": "3.12.7"
  },
  "toc": {
   "base_numbering": 1,
   "nav_menu": {},
   "number_sections": true,
   "sideBar": true,
   "skip_h1_title": true,
   "title_cell": "Table of Contents",
   "title_sidebar": "Contents",
   "toc_cell": false,
   "toc_position": {},
   "toc_section_display": true,
   "toc_window_display": false
  }
 },
 "nbformat": 4,
 "nbformat_minor": 4
}
