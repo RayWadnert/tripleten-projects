{
 "cells": [
  {
   "cell_type": "markdown",
   "metadata": {},
   "source": [
    "# Store 1 – Limpieza y Preprocesamiento de Datos de Clientes"
   ]
  },
  {
   "cell_type": "markdown",
   "metadata": {
    "id": "EMQlsEYlxGET"
   },
   "source": [
    "Store 1 proporcionó una muestra de datos de sus clientes para realizar un análisis preliminar.  \n",
    "El objetivo es revisar la calidad de los datos y prepararlos para su análisis en fases posteriores.  \n",
    "Los datos están organizados en una lista de Python, donde cada sublista representa un cliente y contiene la siguiente información:\n",
    "\n",
    "- `user_id`: Identificador único del usuario.\n",
    "- `user_name`: Nombre completo del usuario.\n",
    "- `user_age`: Edad del usuario.\n",
    "- `fav_categories`: Categorías favoritas de productos adquiridos (por ejemplo, `'ELECTRONICS'`, `'SPORT'`, `'BOOKS'`).\n",
    "- `total_spendings`: Lista de gastos totales por cada categoría favorita.\n"
   ]
  },
  {
   "cell_type": "code",
   "execution_count": 50,
   "metadata": {
    "id": "LfBCH4crxLOt"
   },
   "outputs": [],
   "source": [
    "users = [\n",
    "    ['32415', ' mike_reed ', 32.0, ['ELECTRONICS', 'SPORT', 'BOOKS'], [894, 213, 173]],\n",
    "    ['31980', 'kate morgan', 24.0, ['CLOTHES', 'BOOKS'], [439, 390]],\n",
    "    ['32156', ' john doe ', 37.0, ['ELECTRONICS', 'HOME', 'FOOD'], [459, 120, 99]],\n",
    "    ['32761', 'SAMANTHA SMITH', 29.0, ['CLOTHES', 'ELECTRONICS', 'BEAUTY'], [299, 679, 85]],\n",
    "    ['32984', 'David White', 41.0, ['BOOKS', 'HOME', 'SPORT'], [234, 329, 243]],\n",
    "    ['33001', 'emily brown', 26.0, ['BEAUTY', 'HOME', 'FOOD'], [213, 659, 79]],\n",
    "    ['33767', ' Maria Garcia', 33.0, ['CLOTHES', 'FOOD', 'BEAUTY'], [499, 189, 63]],\n",
    "    ['33912', 'JOSE MARTINEZ', 22.0, ['SPORT', 'ELECTRONICS', 'HOME'], [259, 549, 109]],\n",
    "    ['34009', 'lisa wilson ', 35.0, ['HOME', 'BOOKS', 'CLOTHES'], [329, 189, 329]],\n",
    "    ['34278', 'James Lee', 28.0, ['BEAUTY', 'CLOTHES', 'ELECTRONICS'], [189, 299, 579]],\n",
    "]\n"
   ]
  },
  {
   "cell_type": "markdown",
   "metadata": {
    "id": "QJa5xuF-Jm9T"
   },
   "source": [
    "# Paso 1 – Evaluación de calidad de los datos\n",
    "\n",
    "Store 1 tiene como objetivo garantizar la coherencia en la recopilación de datos.  \n",
    "Como parte de esta iniciativa, se debe evaluar la calidad de los datos recopilados sobre los usuarios y las usuarias.  \n",
    "Se debe revisar los datos recopilados y proponer cambios.  \n",
    "A continuación, se presentan los datos de un usuario específico para identificar posibles problemas de calidad:"
   ]
  },
  {
   "cell_type": "code",
   "execution_count": 5,
   "metadata": {
    "id": "kvRIX_jfJm9U"
   },
   "outputs": [],
   "source": [
    "user_id = '32415'\n",
    "user_name = ' mike_reed '\n",
    "user_age = 32.0\n",
    "fav_categories = ['ELECTRONICS', 'SPORT', 'BOOKS']"
   ]
  },
  {
   "cell_type": "markdown",
   "metadata": {
    "id": "jBGXAwBkJm9V"
   },
   "source": [
    "**Observaciones:**\n",
    "\n",
    "- `user_id` está en formato `str`, pero si solo se utiliza como identificador único, es aceptable mantenerlo así.\n",
    "- En `user_name`, se deben eliminar los espacios y reemplazar el guion bajo por un espacio. También se recomienda aplicar `.title()` para capitalizar correctamente el nombre.\n",
    "- `user_age` está en formato `float`, pero sería más apropiado convertirlo a `int` si no se esperan decimales.\n",
    "- En `fav_categories`, los valores están en mayúsculas. Es recomendable convertirlos a minúsculas con `.lower()` para estandarizar el formato y facilitar su análisis.\n"
   ]
  },
  {
   "cell_type": "markdown",
   "metadata": {
    "id": "aZ40WbF5Jm9V"
   },
   "source": [
    "# Paso 2 – Limpieza del nombre de usuario\n",
    "\n",
    "Se procede a limpiar el valor de `user_name`, ya que contiene espacios innecesarios y un guion bajo como separador entre nombre y apellido.\n",
    "\n",
    "Para ello, se aplican los siguientes métodos:\n",
    "- `.strip()` para eliminar espacios al inicio y al final de la cadena.\n",
    "- `.replace(\"_\", \" \")` para reemplazar guiones bajos por espacios.\n",
    "- `.title()` para capitalizar cada palabra del nombre.\n",
    "\n",
    "El resultado es un nombre formateado correctamente y listo para su análisis.\n"
   ]
  },
  {
   "cell_type": "code",
   "execution_count": 9,
   "metadata": {
    "colab": {
     "base_uri": "https://localhost:8080/",
     "height": 0
    },
    "id": "_uOLKjF8Jm9V",
    "outputId": "87d01525-a9a4-44d4-edca-937057cd6940"
   },
   "outputs": [
    {
     "name": "stdout",
     "output_type": "stream",
     "text": [
      "Mike Reed\n"
     ]
    }
   ],
   "source": [
    "user_name = ' mike_reed '\n",
    "user_name = user_name.strip().replace(\"_\", \" \").title()\n",
    "print(user_name)\n"
   ]
  },
  {
   "cell_type": "markdown",
   "metadata": {
    "id": "IBQlePCsJm9V"
   },
   "source": [
    "# Paso 3 – División del nombre en nombre y apellido\n",
    "\n",
    "Se divide el valor de `user_name` en dos componentes utilizando el método `.split()`.  \n",
    "Este método genera una lista con el nombre y el apellido como elementos separados, permitiendo una manipulación más precisa del dato."
   ]
  },
  {
   "cell_type": "code",
   "execution_count": 16,
   "metadata": {
    "colab": {
     "base_uri": "https://localhost:8080/",
     "height": 0
    },
    "id": "0mYAxetNJm9W",
    "outputId": "9c7e7238-9229-4cf3-a0c7-9d966cad7651"
   },
   "outputs": [
    {
     "name": "stdout",
     "output_type": "stream",
     "text": [
      "['Mike', 'Reed']\n"
     ]
    }
   ],
   "source": [
    "user_name = 'Mike Reed'\n",
    "name_split = user_name.split()\n",
    "print(name_split)\n"
   ]
  },
  {
   "cell_type": "markdown",
   "metadata": {
    "id": "bcNebWVsJm9W"
   },
   "source": [
    "# Paso 4 – Conversión del tipo de dato de edad\n",
    "\n",
    "El valor de `user_age` se encuentra almacenado como un número decimal (`float`).  \n",
    "Dado que la edad no requiere decimales, se procede a convertir este valor al tipo `int` para estandarizar su formato y facilitar su análisis.\n"
   ]
  },
  {
   "cell_type": "code",
   "execution_count": 15,
   "metadata": {
    "colab": {
     "base_uri": "https://localhost:8080/",
     "height": 0
    },
    "id": "g0FZSll4Jm9W",
    "outputId": "a06fede2-0b78-4436-d905-debe6eb01262"
   },
   "outputs": [
    {
     "name": "stdout",
     "output_type": "stream",
     "text": [
      "32\n"
     ]
    }
   ],
   "source": [
    "user_age = 32.0\n",
    "user_age = int(user_age)\n",
    "\n",
    "print(user_age)"
   ]
  },
  {
   "cell_type": "markdown",
   "metadata": {
    "id": "U0bvLZOVJm9W"
   },
   "source": [
    "# Paso 5 – Manejo de errores al convertir la edad\n",
    "\n",
    "Dado que los datos ingresados pueden contener errores o estar en un formato no numérico, se implementa un bloque `try-except` para manejar posibles fallos al convertir `user_age` a tipo `int`.\n",
    "\n",
    "Si la conversión es exitosa, se muestra el valor transformado.  \n",
    "En caso contrario, se genera un mensaje informativo solicitando ingresar la edad en formato numérico.\n"
   ]
  },
  {
   "cell_type": "code",
   "execution_count": 60,
   "metadata": {
    "colab": {
     "base_uri": "https://localhost:8080/",
     "height": 0
    },
    "id": "bKxiA-voJm9W",
    "outputId": "107abe1f-5825-44dd-c5bf-288c6386e9c5"
   },
   "outputs": [
    {
     "name": "stdout",
     "output_type": "stream",
     "text": [
      "Please provide your age as a numerical value.\n"
     ]
    }
   ],
   "source": [
    "user_age = 'treinta y dos'\n",
    "\n",
    "try:\n",
    "    user_age_int = int(user_age)\n",
    "    print(f\"La edad convertida es: {user_age_int}\")\n",
    "except ValueError:\n",
    "    print(\"Please provide your age as a numerical value.\")\n"
   ]
  },
  {
   "cell_type": "markdown",
   "metadata": {
    "id": "geo-WB0KW3Ji"
   },
   "source": [
    "# Paso 6 – Ordenamiento de usuarios por ID\n",
    "\n",
    "Se requiere organizar los datos por el identificador de usuario (`user_id`) en orden ascendente para facilitar su análisis.\n",
    "\n",
    "Como los valores de `user_id` se encuentran en formato de texto (`str`), primero se convierten a tipo entero (`int`).  \n",
    "Luego se aplica el método `.sort()` para ordenar la lista correctamente de forma numérica."
   ]
  },
  {
   "cell_type": "code",
   "execution_count": 71,
   "metadata": {
    "colab": {
     "base_uri": "https://localhost:8080/",
     "height": 0
    },
    "id": "Re_QlnnLW3Jo",
    "outputId": "5d1db33b-81ae-4686-b6bc-bb9476a59c59"
   },
   "outputs": [
    {
     "name": "stdout",
     "output_type": "stream",
     "text": [
      "[[31980, 'kate morgan', 24.0, ['CLOTHES', 'BOOKS'], [439, 390]], [32156, ' john doe ', 37.0, ['ELECTRONICS', 'HOME', 'FOOD'], [459, 120, 99]], [32415, ' mike_reed ', 32.0, ['ELECTRONICS', 'SPORT', 'BOOKS'], [894, 213, 173]], [32761, 'SAMANTHA SMITH', 29.0, ['CLOTHES', 'ELECTRONICS', 'BEAUTY'], [299, 679, 85]], [32984, 'David White', 41.0, ['BOOKS', 'HOME', 'SPORT'], [234, 329, 243]], [33001, 'emily brown', 26.0, ['BEAUTY', 'HOME', 'FOOD'], [213, 659, 79]], [33767, ' Maria Garcia', 33.0, ['CLOTHES', 'FOOD', 'BEAUTY'], [499, 189, 63]], [33912, 'JOSE MARTINEZ', 22.0, ['SPORT', 'ELECTRONICS', 'HOME'], [259, 549, 109]], [34009, 'lisa wilson ', 35.0, ['HOME', 'BOOKS', 'CLOTHES'], [329, 189, 329]], [34278, 'James Lee', 28.0, ['BEAUTY', 'CLOTHES', 'ELECTRONICS'], [189, 299, 579]]]\n"
     ]
    }
   ],
   "source": [
    "users = [\n",
    "    ['32415', ' mike_reed ', 32.0, ['ELECTRONICS', 'SPORT', 'BOOKS'], [894, 213, 173]],\n",
    "    ['31980', 'kate morgan', 24.0, ['CLOTHES', 'BOOKS'], [439, 390]],\n",
    "    ['32156', ' john doe ', 37.0, ['ELECTRONICS', 'HOME', 'FOOD'], [459, 120, 99]],\n",
    "    ['32761', 'SAMANTHA SMITH', 29.0, ['CLOTHES', 'ELECTRONICS', 'BEAUTY'], [299, 679, 85]],\n",
    "    ['32984', 'David White', 41.0, ['BOOKS', 'HOME', 'SPORT'], [234, 329, 243]],\n",
    "    ['33001', 'emily brown', 26.0, ['BEAUTY', 'HOME', 'FOOD'], [213, 659, 79]],\n",
    "    ['33767', ' Maria Garcia', 33.0, ['CLOTHES', 'FOOD', 'BEAUTY'], [499, 189, 63]],\n",
    "    ['33912', 'JOSE MARTINEZ', 22.0, ['SPORT', 'ELECTRONICS', 'HOME'], [259, 549, 109]],\n",
    "    ['34009', 'lisa wilson ', 35.0, ['HOME', 'BOOKS', 'CLOTHES'], [329, 189, 329]],\n",
    "    ['34278', 'James Lee', 28.0, ['BEAUTY', 'CLOTHES', 'ELECTRONICS'], [189, 299, 579]],\n",
    "]\n",
    "\n",
    "for user in users:\n",
    "    user[0] = int(user[0])\n",
    "    \n",
    "users.sort()\n",
    "\n",
    "print(users)"
   ]
  },
  {
   "cell_type": "markdown",
   "metadata": {
    "id": "VRqEQFJiJm9X"
   },
   "source": [
    "# Paso 7 – Cálculo del gasto total por usuario\n",
    "\n",
    "Para analizar los hábitos de consumo de los usuarios, se calcula el gasto total sumando los valores asociados a cada una de sus categorías favoritas.  \n",
    "\n",
    "La lista `spendings_per_category` contiene los montos gastados en cada categoría.  \n",
    "Se utiliza la función incorporada `sum()` para obtener el total y almacenarlo en la variable `total_amount`."
   ]
  },
  {
   "cell_type": "code",
   "execution_count": 23,
   "metadata": {
    "colab": {
     "base_uri": "https://localhost:8080/",
     "height": 0
    },
    "id": "sjNmuLsQJm9X",
    "outputId": "855d48cc-92db-4e9e-b783-185ad832095b"
   },
   "outputs": [
    {
     "name": "stdout",
     "output_type": "stream",
     "text": [
      "1280\n"
     ]
    }
   ],
   "source": [
    "fav_categories_low = ['electronics', 'sport', 'books']\n",
    "spendings_per_category = [894, 213, 173]\n",
    "\n",
    "total_amount = sum(spendings_per_category)\n",
    "\n",
    "print(total_amount)\n"
   ]
  },
  {
   "cell_type": "markdown",
   "metadata": {
    "id": "zP0nVV5FJm9Y"
   },
   "source": [
    "# Paso 8 – Generación de una cadena de resumen para el usuario\n",
    "\n",
    "Para facilitar la presentación de información, se construye una cadena formateada que combina los valores de `user_id`, `user_name` y `user_age` en una estructura legible.  \n",
    "\n",
    "Se utiliza una f-string para generar la frase final que resume los datos del usuario de manera clara."
   ]
  },
  {
   "cell_type": "code",
   "execution_count": 78,
   "metadata": {
    "colab": {
     "base_uri": "https://localhost:8080/",
     "height": 0
    },
    "id": "8mlIJr4OJm9Y",
    "outputId": "46ece124-3e25-420c-90db-b477e58467a6"
   },
   "outputs": [
    {
     "name": "stdout",
     "output_type": "stream",
     "text": [
      "User 32415 is Mike who is 32 years old.\n"
     ]
    }
   ],
   "source": [
    "user_id = 32415\n",
    "user_name = ['Mike', 'Reed']\n",
    "user_age = 32\n",
    "\n",
    "user_info = f\"User {user_id} is {user_name[0]} who is {user_age} years old.\"\n",
    "print(user_info)"
   ]
  },
  {
   "cell_type": "markdown",
   "metadata": {
    "id": "xOj8_G0ZO9mM"
   },
   "source": [
    "# Paso 9 – Conteo de registros de usuarios\n",
    "\n",
    "Para obtener una visión general de la base de datos, se calcula la cantidad total de usuarios registrados.  \n",
    "Esto se logra utilizando la función incorporada `len()` sobre la lista `users`, la cual contiene los datos de cada cliente.  \n",
    "\n",
    "Luego, se genera una cadena formateada que comunica esta información de forma clara.\n"
   ]
  },
  {
   "cell_type": "code",
   "execution_count": 81,
   "metadata": {
    "colab": {
     "base_uri": "https://localhost:8080/",
     "height": 0
    },
    "id": "eGvjS1rkO9mS",
    "outputId": "00108158-7175-4e53-a29c-a3b64e9368bd"
   },
   "outputs": [
    {
     "name": "stdout",
     "output_type": "stream",
     "text": [
      "Hemos registrado datos de 10 clientes.\n"
     ]
    }
   ],
   "source": [
    "users = [\n",
    "    ['32415', ' mike_reed ', 32.0, ['ELECTRONICS', 'SPORT', 'BOOKS'], [894, 213, 173]],\n",
    "    ['31980', 'kate morgan', 24.0, ['CLOTHES', 'BOOKS'], [439, 390]],\n",
    "    ['32156', ' john doe ', 37.0, ['ELECTRONICS', 'HOME', 'FOOD'], [459, 120, 99]],\n",
    "    ['32761', 'SAMANTHA SMITH', 29.0, ['CLOTHES', 'ELECTRONICS', 'BEAUTY'], [299, 679, 85]],\n",
    "    ['32984', 'David White', 41.0, ['BOOKS', 'HOME', 'SPORT'], [234, 329, 243]],\n",
    "    ['33001', 'emily brown', 26.0, ['BEAUTY', 'HOME', 'FOOD'], [213, 659, 79]],\n",
    "    ['33767', ' Maria Garcia', 33.0, ['CLOTHES', 'FOOD', 'BEAUTY'], [499, 189, 63]],\n",
    "    ['33912', 'JOSE MARTINEZ', 22.0, ['SPORT', 'ELECTRONICS', 'HOME'], [259, 549, 109]],\n",
    "    ['34009', 'lisa wilson ', 35.0, ['HOME', 'BOOKS', 'CLOTHES'], [329, 189, 329]],\n",
    "    ['34278', 'James Lee', 28.0, ['BEAUTY', 'CLOTHES', 'ELECTRONICS'], [189, 299, 579]],\n",
    "]\n",
    "\n",
    "cantidad_de_clientes = len(users)\n",
    "\n",
    "user_info = f\"Hemos registrado datos de {cantidad_de_clientes} clientes.\"\n",
    "print(user_info)"
   ]
  },
  {
   "cell_type": "markdown",
   "metadata": {
    "id": "CVVBVYzORu7I"
   },
   "source": [
    "# Paso 10 – Limpieza completa de la lista de usuarios\n",
    "\n",
    "Se realiza una limpieza completa de la lista `users` para generar una nueva lista llamada `users_clean`, con los datos corregidos y listos para su análisis.\n",
    "\n",
    "Cada usuario es procesado aplicando los siguientes pasos:\n",
    "\n",
    "1. Se eliminan los espacios al inicio y final del nombre, y se reemplazan los guiones bajos (`_`) por espacios.\n",
    "2. Se convierte el nombre completo a formato de título con `.title()` (primera letra en mayúscula).\n",
    "3. El nombre limpio se separa en una sublista `[nombre, apellido]` mediante `.split()`.\n",
    "4. Se convierte el valor de `user_age` de tipo `float` a tipo `int`.\n",
    "5. Se convierte el valor de `user_id` de cadena (`str`) a número entero (`int`).\n",
    "6. El registro limpio se agrega a la lista `users_clean`.\n",
    "\n",
    "El uso de un bucle `for` permite aplicar estos cambios de forma eficiente a todos los usuarios, evitando la repetición de código.\n"
   ]
  },
  {
   "cell_type": "code",
   "execution_count": 96,
   "metadata": {
    "colab": {
     "base_uri": "https://localhost:8080/",
     "height": 0
    },
    "id": "9qu_k6XURu7O",
    "outputId": "24335564-08ce-4083-8374-da76b4049323"
   },
   "outputs": [
    {
     "name": "stdout",
     "output_type": "stream",
     "text": [
      "[[32415, ['Mike', 'Reed'], 32, ['ELECTRONICS', 'SPORT', 'BOOKS'], [894, 213, 173]], [31980, ['Kate', 'Morgan'], 24, ['CLOTHES', 'BOOKS'], [439, 390]], [32156, ['John', 'Doe'], 37, ['ELECTRONICS', 'HOME', 'FOOD'], [459, 120, 99]], [32761, ['Samantha', 'Smith'], 29, ['CLOTHES', 'ELECTRONICS', 'BEAUTY'], [299, 679, 85]], [32984, ['David', 'White'], 41, ['BOOKS', 'HOME', 'SPORT'], [234, 329, 243]], [33001, ['Emily', 'Brown'], 26, ['BEAUTY', 'HOME', 'FOOD'], [213, 659, 79]], [33767, ['Maria', 'Garcia'], 33, ['CLOTHES', 'FOOD', 'BEAUTY'], [499, 189, 63]], [33912, ['Jose', 'Martinez'], 22, ['SPORT', 'ELECTRONICS', 'HOME'], [259, 549, 109]], [34009, ['Lisa', 'Wilson'], 35, ['HOME', 'BOOKS', 'CLOTHES'], [329, 189, 329]], [34278, ['James', 'Lee'], 28, ['BEAUTY', 'CLOTHES', 'ELECTRONICS'], [189, 299, 579]]]\n"
     ]
    }
   ],
   "source": [
    "users = [\n",
    "    ['32415', ' mike_reed ', 32.0, ['ELECTRONICS', 'SPORT', 'BOOKS'], [894, 213, 173]],\n",
    "    ['31980', 'kate morgan', 24.0, ['CLOTHES', 'BOOKS'], [439, 390]],\n",
    "    ['32156', ' john doe ', 37.0, ['ELECTRONICS', 'HOME', 'FOOD'], [459, 120, 99]],\n",
    "    ['32761', 'SAMANTHA SMITH', 29.0, ['CLOTHES', 'ELECTRONICS', 'BEAUTY'], [299, 679, 85]],\n",
    "    ['32984', 'David White', 41.0, ['BOOKS', 'HOME', 'SPORT'], [234, 329, 243]],\n",
    "    ['33001', 'emily brown', 26.0, ['BEAUTY', 'HOME', 'FOOD'], [213, 659, 79]],\n",
    "    ['33767', ' Maria Garcia', 33.0, ['CLOTHES', 'FOOD', 'BEAUTY'], [499, 189, 63]],\n",
    "    ['33912', 'JOSE MARTINEZ', 22.0, ['SPORT', 'ELECTRONICS', 'HOME'], [259, 549, 109]],\n",
    "    ['34009', 'lisa wilson ', 35.0, ['HOME', 'BOOKS', 'CLOTHES'], [329, 189, 329]],\n",
    "    ['34278', 'James Lee', 28.0, ['BEAUTY', 'CLOTHES', 'ELECTRONICS'], [189, 299, 579]],\n",
    "]\n",
    "\n",
    "users_clean = []\n",
    "\n",
    "for user in users:\n",
    "    user_id = int(user[0])\n",
    "    name_clean = user[1].strip().replace('_', ' ').title().split()\n",
    "    age_int = int(user[2])\n",
    "    fav_categories = user[3]\n",
    "    total_spendings = user[4]\n",
    "\n",
    "    users_clean.append([user_id, name_clean, age_int, fav_categories, total_spendings])\n",
    "\n",
    "print(users_clean)\n"
   ]
  },
  {
   "cell_type": "markdown",
   "metadata": {},
   "source": [
    "# Conclusión\n",
    "\n",
    "Se ha realizado una limpieza exhaustiva de los datos de clientes proporcionados por Store 1.  \n",
    "Cada registro fue corregido en formato, consistencia de tipos de datos y estructura, permitiendo su uso en análisis posteriores de manera ordenada y confiable.\n",
    "Este trabajo de preprocesamiento es esencial para garantizar la calidad de los datos y optimizar cualquier proceso de análisis de clientes, segmentación o campañas de marketing que la empresa planee ejecutar.\n"
   ]
  }
 ],
 "metadata": {
  "ExecuteTimeLog": [
   {
    "duration": 7,
    "start_time": "2025-04-29T18:01:09.077Z"
   },
   {
    "duration": 2,
    "start_time": "2025-04-29T18:02:51.528Z"
   },
   {
    "duration": 4,
    "start_time": "2025-04-29T18:03:56.835Z"
   },
   {
    "duration": 3,
    "start_time": "2025-04-29T18:04:05.012Z"
   }
  ],
  "colab": {
   "provenance": []
  },
  "kernelspec": {
   "display_name": "Python [conda env:base] *",
   "language": "python",
   "name": "conda-base-py"
  },
  "language_info": {
   "codemirror_mode": {
    "name": "ipython",
    "version": 3
   },
   "file_extension": ".py",
   "mimetype": "text/x-python",
   "name": "python",
   "nbconvert_exporter": "python",
   "pygments_lexer": "ipython3",
   "version": "3.12.7"
  },
  "toc": {
   "base_numbering": 1,
   "nav_menu": {},
   "number_sections": true,
   "sideBar": true,
   "skip_h1_title": true,
   "title_cell": "Table of Contents",
   "title_sidebar": "Contents",
   "toc_cell": false,
   "toc_position": {},
   "toc_section_display": true,
   "toc_window_display": false
  }
 },
 "nbformat": 4,
 "nbformat_minor": 4
}
