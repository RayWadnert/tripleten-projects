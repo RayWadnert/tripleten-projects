{
 "cells": [
  {
   "cell_type": "markdown",
   "metadata": {
    "id": "UCjlyTyyJm9R"
   },
   "source": [
    "# Store 1 – Análisis Lógico de Datos de Clientes"
   ]
  },
  {
   "cell_type": "markdown",
   "metadata": {
    "id": "EMQlsEYlxGET"
   },
   "source": [
    "Store 1 continúa desarrollando su base de datos de clientes con el objetivo de optimizar su estrategia comercial.  \n",
    "En esta segunda etapa del análisis, se aplicarán estructuras de control y funciones lógicas en Python para extraer información más profunda de los datos disponibles.\n",
    "\n",
    "Cada registro contiene los siguientes campos:\n",
    "\n",
    "- `user_id`: identificador único para cada usuario.\n",
    "- `user_name`: nombre del usuario.\n",
    "- `user_age`: edad del usuario.\n",
    "- `fav_categories`: categorías de artículos comprados por el usuario, como 'ELECTRONICS', 'SPORT', 'BOOKS', etc.\n",
    "- `total_spendings`: lista de enteros que indican la cantidad gastada en cada una de sus categorías favoritas.\n"
   ]
  },
  {
   "cell_type": "code",
   "execution_count": 21,
   "metadata": {
    "id": "LfBCH4crxLOt"
   },
   "outputs": [],
   "source": [
    "users = [\n",
    "    ['32415', ' mike_reed ', 32.0, ['ELECTRONICS', 'SPORT', 'BOOKS'], [894, 213, 173]],\n",
    "    ['31980', 'kate morgan', 24.0, ['CLOTHES', 'BOOKS'], [439, 390]],\n",
    "    ['32156', ' john doe ', 37.0, ['ELECTRONICS', 'HOME', 'FOOD'], [459, 120, 99]],\n",
    "    ['32761', 'SAMANTHA SMITH', 29.0, ['CLOTHES', 'ELECTRONICS', 'BEAUTY'], [299, 679, 85]],\n",
    "    ['32984', 'David White', 41.0, ['BOOKS', 'HOME', 'SPORT'], [234, 329, 243]],\n",
    "    ['33001', 'emily brown', 26.0, ['BEAUTY', 'HOME', 'FOOD'], [213, 659, 79]],\n",
    "    ['33767', ' Maria Garcia', 33.0, ['CLOTHES', 'FOOD', 'BEAUTY'], [499, 189, 63]],\n",
    "    ['33912', 'JOSE MARTINEZ', 22.0, ['SPORT', 'ELECTRONICS', 'HOME'], [259, 549, 109]],\n",
    "    ['34009', 'lisa wilson ', 35.0, ['HOME', 'BOOKS', 'CLOTHES'], [329, 189, 329]],\n",
    "    ['34278', 'James Lee', 28.0, ['BEAUTY', 'CLOTHES', 'ELECTRONICS'], [189, 299, 579]],\n",
    "]\n"
   ]
  },
  {
   "cell_type": "markdown",
   "metadata": {
    "id": "vgnoxECvlWvr"
   },
   "source": [
    "# Paso 1 – Limpieza de nombre y edad de usuario\n",
    "\n",
    "En esta sección se implementa una función para estandarizar la información básica de un cliente individual.  \n",
    "La función `clean_user()` toma como entrada una lista que representa a un cliente, y aplica los siguientes pasos:\n",
    "\n",
    "1. Elimina espacios innecesarios y reemplaza guiones bajos en el nombre.\n",
    "2. Convierte la edad en número entero.\n",
    "3. Separa el nombre y apellido en una sublista para facilitar su uso posterior.\n",
    "\n",
    "La función recibe como parámetros:\n",
    "- `usuario`: lista con la información completa del cliente.\n",
    "- `nombre`: índice de la posición del nombre dentro de la lista.\n",
    "- `edad`: índice de la posición de la edad dentro de la lista.\n",
    "\n",
    "Se incluye una validación básica de tipo y longitud para evitar errores inesperados.\n"
   ]
  },
  {
   "cell_type": "code",
   "execution_count": 31,
   "metadata": {
    "colab": {
     "base_uri": "https://localhost:8080/"
    },
    "id": "RN6LIlHelWvr",
    "outputId": "3a920e92-3770-40a1-934f-40c7513f1871"
   },
   "outputs": [],
   "source": [
    "def clean_user(usuario, nombre, edad):\n",
    "    nombre_limpio = usuario[nombre].strip().replace('_', ' ').title().split()\n",
    "    edad_limpia = int(usuario[edad])\n",
    "    usuario[nombre] = nombre_limpio\n",
    "    usuario[edad] = edad_limpia\n",
    "    return usuario"
   ]
  },
  {
   "cell_type": "markdown",
   "metadata": {
    "id": "zF6ADQNLJm9W"
   },
   "source": [
    "# Paso 2 – Conversión de categorías a minúsculas\n",
    "\n",
    "En esta sección se estandarizan los nombres de las categorías favoritas de cada cliente, ya que originalmente se encuentran en mayúsculas.  \n",
    "Para ello, se utiliza una comprensión de listas que aplica el método `.lower()` sobre cada elemento de la lista `fav_categories`, generando una nueva lista llamada `fav_categories_low`.\n",
    "\n"
   ]
  },
  {
   "cell_type": "code",
   "execution_count": 35,
   "metadata": {
    "colab": {
     "base_uri": "https://localhost:8080/"
    },
    "id": "Ltoq2LXjJm9W",
    "outputId": "39b311c6-8bd8-4a8b-cfcf-4554d8b7b99f"
   },
   "outputs": [
    {
     "name": "stdout",
     "output_type": "stream",
     "text": [
      "['electronics', 'sport', 'books']\n"
     ]
    }
   ],
   "source": [
    "fav_categories = ['ELECTRONICS', 'SPORT', 'BOOKS']\n",
    "fav_categories_low = []\n",
    "\n",
    "for category in fav_categories:\n",
    "    fav_categories_low.append(category.lo0wer())\n",
    "\n",
    "print(fav_categories_low)"
   ]
  },
  {
   "cell_type": "markdown",
   "metadata": {
    "id": "xhKqJwaqdrRu"
   },
   "source": [
    "# Paso 3 – Conversión de categorías a minúsculas para todos los usuarios\n",
    "\n",
    "Se transforma la lista de categorías favoritas de cada cliente a minúsculas.  \n",
    "Se crea una nueva lista llamada `users_categories_low` con los usuarios actualizados, preservando intacta la lista original."
   ]
  },
  {
   "cell_type": "code",
   "execution_count": 41,
   "metadata": {
    "colab": {
     "base_uri": "https://localhost:8080/"
    },
    "id": "uBfnDzZfdrR1",
    "outputId": "d65be261-4fb8-4a38-8cc0-9905108d6b24"
   },
   "outputs": [
    {
     "name": "stdout",
     "output_type": "stream",
     "text": [
      "[['32415', ' mike_reed ', 32.0, ['electronics', 'sport', 'books'], [894, 213, 173]], ['31980', 'kate morgan', 24.0, ['clothes', 'books'], [439, 390]], ['32156', ' john doe ', 37.0, ['electronics', 'home', 'food'], [459, 120, 99]], ['32761', 'SAMANTHA SMITH', 29.0, ['clothes', 'electronics', 'beauty'], [299, 679, 85]], ['32984', 'David White', 41.0, ['books', 'home', 'sport'], [234, 329, 243]], ['33001', 'emily brown', 26.0, ['beauty', 'home', 'food'], [213, 659, 79]], ['33767', ' Maria Garcia', 33.0, ['clothes', 'food', 'beauty'], [499, 189, 63]], ['33912', 'JOSE MARTINEZ', 22.0, ['sport', 'electronics', 'home'], [259, 549, 109]], ['34009', 'lisa wilson ', 35.0, ['home', 'books', 'clothes'], [329, 189, 329]], ['34278', 'James Lee', 28.0, ['beauty', 'clothes', 'electronics'], [189, 299, 579]]]\n"
     ]
    }
   ],
   "source": [
    "users = [\n",
    "    ['32415', ' mike_reed ', 32.0, ['ELECTRONICS', 'SPORT', 'BOOKS'], [894, 213, 173]],\n",
    "    ['31980', 'kate morgan', 24.0, ['CLOTHES', 'BOOKS'], [439, 390]],\n",
    "    ['32156', ' john doe ', 37.0, ['ELECTRONICS', 'HOME', 'FOOD'], [459, 120, 99]],\n",
    "    ['32761', 'SAMANTHA SMITH', 29.0, ['CLOTHES', 'ELECTRONICS', 'BEAUTY'], [299, 679, 85]],\n",
    "    ['32984', 'David White', 41.0, ['BOOKS', 'HOME', 'SPORT'], [234, 329, 243]],\n",
    "    ['33001', 'emily brown', 26.0, ['BEAUTY', 'HOME', 'FOOD'], [213, 659, 79]],\n",
    "    ['33767', ' Maria Garcia', 33.0, ['CLOTHES', 'FOOD', 'BEAUTY'], [499, 189, 63]],\n",
    "    ['33912', 'JOSE MARTINEZ', 22.0, ['SPORT', 'ELECTRONICS', 'HOME'], [259, 549, 109]],\n",
    "    ['34009', 'lisa wilson ', 35.0, ['HOME', 'BOOKS', 'CLOTHES'], [329, 189, 329]],\n",
    "    ['34278', 'James Lee', 28.0, ['BEAUTY', 'CLOTHES', 'ELECTRONICS'], [189, 299, 579]],\n",
    "]\n",
    "\n",
    "users_categories_low = []\n",
    "\n",
    "for user in users:\n",
    "    categories_low = []\n",
    "    for category in user[3]:\n",
    "        lowered_category = category.lower()\n",
    "        categories_low.append(lowered_category)\n",
    "    \n",
    "    updated_user = user.copy()\n",
    "    updated_user[3] = categories_low\n",
    "    users_categories_low.append(updated_user)\n",
    "\n",
    "print(users_categories_low)"
   ]
  },
  {
   "cell_type": "markdown",
   "metadata": {
    "id": "uisdgp0or8rS"
   },
   "source": [
    "# Paso 4 – Limpieza completa del usuario con función clean_user\n",
    "\n",
    "En esta sección se completa la función `clean_user` para realizar la limpieza integral de cada cliente.\n",
    "\n",
    "La función ahora incluye un nuevo parámetro para el índice de las categorías (`cat_index`) y realiza las siguientes transformaciones:\n",
    "\n",
    "- Convierte el nombre completo a minúsculas, elimina espacios y reemplaza guiones bajos.\n",
    "- Separa el nombre y apellido en una sublista.\n",
    "- Convierte la edad a número entero.\n",
    "- Convierte todas las categorías favoritas a minúsculas.\n",
    "\n",
    "Finalmente, se recorre toda la lista de usuarios `users`, aplicando la función `clean_user` a cada uno y almacenando los resultados en la lista `users_cleaned`.\n"
   ]
  },
  {
   "cell_type": "code",
   "execution_count": 45,
   "metadata": {
    "colab": {
     "base_uri": "https://localhost:8080/"
    },
    "id": "ioGD_Cs5r8ra",
    "outputId": "a1e061b1-b7b3-4df3-9a53-c735f6d9202a"
   },
   "outputs": [
    {
     "name": "stdout",
     "output_type": "stream",
     "text": [
      "[['32415', ['mike', 'reed'], 32, ['electronics', 'sport', 'books'], [894, 213, 173]], ['31980', ['kate', 'morgan'], 24, ['clothes', 'books'], [439, 390]], ['32156', ['john', 'doe'], 37, ['electronics', 'home', 'food'], [459, 120, 99]], ['32761', ['samantha', 'smith'], 29, ['clothes', 'electronics', 'beauty'], [299, 679, 85]], ['32984', ['david', 'white'], 41, ['books', 'home', 'sport'], [234, 329, 243]], ['33001', ['emily', 'brown'], 26, ['beauty', 'home', 'food'], [213, 659, 79]], ['33767', ['maria', 'garcia'], 33, ['clothes', 'food', 'beauty'], [499, 189, 63]], ['33912', ['jose', 'martinez'], 22, ['sport', 'electronics', 'home'], [259, 549, 109]], ['34009', ['lisa', 'wilson'], 35, ['home', 'books', 'clothes'], [329, 189, 329]], ['34278', ['james', 'lee'], 28, ['beauty', 'clothes', 'electronics'], [189, 299, 579]]]\n"
     ]
    }
   ],
   "source": [
    "def clean_user(user_info, name_index, age_index, cat_index):\n",
    "    user_name_1 = user_info[name_index].strip().lower().replace('_', ' ')\n",
    "    user_age_1 = int(user_info[age_index])\n",
    "    user_name_1 = user_name_1.split()\n",
    "\n",
    "    categories_low = []\n",
    "    for category in user_info[cat_index]:\n",
    "        categories_low.append(category.lower())\n",
    "\n",
    "    user_info[name_index] = user_name_1\n",
    "    user_info[age_index] = user_age_1\n",
    "    user_info[cat_index] = categories_low\n",
    "\n",
    "    return user_info\n",
    "\n",
    "users = [\n",
    "    ['32415', ' mike_reed ', 32.0, ['ELECTRONICS', 'SPORT', 'BOOKS'], [894, 213, 173]],\n",
    "    ['31980', 'kate morgan', 24.0, ['CLOTHES', 'BOOKS'], [439, 390]],\n",
    "    ['32156', ' john doe ', 37.0, ['ELECTRONICS', 'HOME', 'FOOD'], [459, 120, 99]],\n",
    "    ['32761', 'SAMANTHA SMITH', 29.0, ['CLOTHES', 'ELECTRONICS', 'BEAUTY'], [299, 679, 85]],\n",
    "    ['32984', 'David White', 41.0, ['BOOKS', 'HOME', 'SPORT'], [234, 329, 243]],\n",
    "    ['33001', 'emily brown', 26.0, ['BEAUTY', 'HOME', 'FOOD'], [213, 659, 79]],\n",
    "    ['33767', ' Maria Garcia', 33.0, ['CLOTHES', 'FOOD', 'BEAUTY'], [499, 189, 63]],\n",
    "    ['33912', 'JOSE MARTINEZ', 22.0, ['SPORT', 'ELECTRONICS', 'HOME'], [259, 549, 109]],\n",
    "    ['34009', 'lisa wilson ', 35.0, ['HOME', 'BOOKS', 'CLOTHES'], [329, 189, 329]],\n",
    "    ['34278', 'James Lee', 28.0, ['BEAUTY', 'CLOTHES', 'ELECTRONICS'], [189, 299, 579]],\n",
    "]\n",
    "\n",
    "name_index = 1\n",
    "age_index = 2\n",
    "cat_index = 3\n",
    "users_cleaned = []\n",
    "\n",
    "for user in users:\n",
    "    user_cleaned = clean_user(user, name_index, age_index, cat_index)\n",
    "    users_cleaned.append(user_cleaned)\n",
    "\n",
    "print(users_cleaned)\n"
   ]
  },
  {
   "cell_type": "markdown",
   "metadata": {
    "id": "eONfrv9nJm9Y"
   },
   "source": [
    "# Paso 5 – Cálculo del ingreso total de la empresa\n",
    "\n",
    "En esta sección se calcula el ingreso total de la empresa, sumando todos los gastos realizados por cada cliente.\n",
    "\n",
    "Se recorre la lista `users` y se extrae la lista de gastos de cada cliente para obtener el total gastado.  \n",
    "Luego, se acumulan los valores individuales en la variable `revenue`, que representa el ingreso total final."
   ]
  },
  {
   "cell_type": "code",
   "execution_count": 48,
   "metadata": {
    "colab": {
     "base_uri": "https://localhost:8080/"
    },
    "id": "ijzboKgoJm9Y",
    "outputId": "7cd57985-28d7-4a7e-92b0-bf9e1dfdbf49"
   },
   "outputs": [
    {
     "name": "stdout",
     "output_type": "stream",
     "text": [
      "9189\n"
     ]
    }
   ],
   "source": [
    "users = [['32415', ['mike', 'reed'], 32, ['electronics', 'sport', 'books'], [894, 213, 173]],\n",
    "         ['31980', ['kate', 'morgan'], 24, ['clothes', 'books'], [439, 390]],\n",
    "         ['32156', ['john', 'doe'], 37, ['electronics', 'home', 'food'], [459, 120, 99]],\n",
    "         ['32761', ['samantha', 'smith'], 29, ['clothes', 'electronics', 'beauty'], [299, 679, 85]],\n",
    "         ['32984', ['david', 'white'], 41, ['books', 'home', 'sport'], [234, 329, 243]],\n",
    "         ['33001', ['emily', 'brown'], 26, ['beauty', 'home', 'food'], [213, 659, 79]],\n",
    "         ['33767', ['maria', 'garcia'], 33, ['clothes', 'food', 'beauty'], [499, 189, 63]],\n",
    "         ['33912', ['jose', 'martinez'], 22, ['sport', 'electronics', 'home'], [259, 549, 109]],\n",
    "         ['34009', ['lisa', 'wilson'], 35, ['home', 'books', 'clothes'], [329, 189, 329]],\n",
    "         ['34278', ['james', 'lee'], 28, ['beauty', 'clothes', 'electronics'], [189, 299, 579]]]\n",
    "\n",
    "revenue = 0\n",
    "\n",
    "for user in users:\n",
    "    spendings_list = user[4]\n",
    "    total_spendings = sum(spendings_list)\n",
    "    revenue += total_spendings\n",
    "\n",
    "print(revenue)"
   ]
  },
  {
   "cell_type": "markdown",
   "metadata": {
    "id": "R1wNYes8Jm9X"
   },
   "source": [
    "# Paso 6 – Simulación de compras adicionales hasta alcanzar fidelización\n",
    "\n",
    "La empresa desea identificar a sus clientes leales, definidos como aquellos que han gastado más de $1500 en total.  \n",
    "Para ello, se simulan nuevas compras hasta alcanzar ese umbral utilizando un bucle `while`.\n",
    "\n",
    "En cada iteración del bucle, se genera un nuevo gasto aleatorio entre entre 30 y 80 dólares, el cual se suma al monto total ya gastado.  \n",
    "El bucle finaliza una vez que el cliente ha alcanzado o superado el objetivo de gasto.\n",
    "\n",
    "Esto permite visualizar cómo un cliente puede alcanzar el estatus de cliente leal a través de nuevas compras."
   ]
  },
  {
   "cell_type": "code",
   "execution_count": 64,
   "metadata": {
    "colab": {
     "base_uri": "https://localhost:8080/"
    },
    "id": "eVBfoyx7Jm9X",
    "outputId": "7d70c18f-2523-488a-de1c-eb820380e860"
   },
   "outputs": [
    {
     "name": "stdout",
     "output_type": "stream",
     "text": [
      "1510\n"
     ]
    }
   ],
   "source": [
    "from random import randint  # no entiendo que es esto :(\n",
    "\n",
    "total_amount_spent = 1280\n",
    "target_amount = 1500\n",
    "\n",
    "while total_amount_spent < target_amount:\n",
    "\tnew_purchase = randint(30, 80) # generamos un número aleatorio de 30 a 80\n",
    "\ttotal_amount_spent += new_purchase\n",
    "\n",
    "print(total_amount_spent)"
   ]
  },
  {
   "cell_type": "markdown",
   "metadata": {
    "id": "IoyNnalCJm9Z"
   },
   "source": [
    "# Paso 7 – Filtrado de usuarios por edad\n",
    "\n",
    "La empresa desea identificar a los clientes menores de 30 años.  \n",
    "Para ello, se recorre la lista `users` utilizando un bucle `for`, y se aplica una condición `if` para verificar si la edad del cliente (índice 2) es menor a 30.\n",
    "\n",
    "Cuando se cumple la condición, se imprime el nombre completo del cliente utilizando la función `.join()` para combinar nombre y apellido desde la sublista que contiene sus datos personales."
   ]
  },
  {
   "cell_type": "code",
   "execution_count": 67,
   "metadata": {
    "colab": {
     "base_uri": "https://localhost:8080/"
    },
    "id": "pn5WkcpJJm9Z",
    "outputId": "4c6e4d7f-8873-4b40-dbb7-fe8d23ff5e9f"
   },
   "outputs": [
    {
     "name": "stdout",
     "output_type": "stream",
     "text": [
      "kate morgan\n",
      "samantha smith\n",
      "emily brown\n",
      "jose martinez\n",
      "james lee\n"
     ]
    }
   ],
   "source": [
    "users = [['32415', ['mike', 'reed'], 32, ['electronics', 'sport', 'books'], [894, 213, 173]],\n",
    "         ['31980', ['kate', 'morgan'], 24, ['clothes', 'books'], [439, 390]],\n",
    "         ['32156', ['john', 'doe'], 37, ['electronics', 'home', 'food'], [459, 120, 99]],\n",
    "         ['32761', ['samantha', 'smith'], 29, ['clothes', 'electronics', 'beauty'], [299, 679, 85]],\n",
    "         ['32984', ['david', 'white'], 41, ['books', 'home', 'sport'], [234, 329, 243]],\n",
    "         ['33001', ['emily', 'brown'], 26, ['beauty', 'home', 'food'], [213, 659, 79]],\n",
    "         ['33767', ['maria', 'garcia'], 33, ['clothes', 'food', 'beauty'], [499, 189, 63]],\n",
    "         ['33912', ['jose', 'martinez'], 22, ['sport', 'electronics', 'home'], [259, 549, 109]],\n",
    "         ['34009', ['lisa', 'wilson'], 35, ['home', 'books', 'clothes'], [329, 189, 329]],\n",
    "         ['34278', ['james', 'lee'], 28, ['beauty', 'clothes', 'electronics'], [189, 299, 579]]]\n",
    "\n",
    "\n",
    "for user in users:\n",
    "    if user[2] < 30:\n",
    "        full_name = ' '.join(user[1])\n",
    "        print(full_name)"
   ]
  },
  {
   "cell_type": "markdown",
   "metadata": {
    "id": "0ok38JMoJm9Z"
   },
   "source": [
    "# Paso 8 – Clientes jóvenes con alto gasto\n",
    "\n",
    "En este paso se identifican los usuarios menores de 30 años que han realizado un gasto total superior a \\$1000.\n",
    "\n",
    "Se implementa una doble condición utilizando estructuras `if` anidadas:  \n",
    "primero se verifica que la edad del usuario sea menor a 30,  \n",
    "y luego se comprueba si el monto total de sus compras supera el umbral establecido.\n",
    "\n",
    "Cuando ambas condiciones se cumplen, se imprime el nombre completo del usuario."
   ]
  },
  {
   "cell_type": "code",
   "execution_count": 32,
   "metadata": {
    "colab": {
     "base_uri": "https://localhost:8080/"
    },
    "id": "4oAW1QDFJm9Z",
    "outputId": "9201ef3e-4e9e-415f-e141-4a37a5556072"
   },
   "outputs": [
    {
     "name": "stdout",
     "output_type": "stream",
     "text": [
      "samantha smith\n",
      "james lee\n"
     ]
    }
   ],
   "source": [
    "users = [['32415', ['mike', 'reed'], 32, ['electronics', 'sport', 'books'], [894, 213, 173]],\n",
    "         ['31980', ['kate', 'morgan'], 24, ['clothes', 'books'], [439, 390]],\n",
    "         ['32156', ['john', 'doe'], 37, ['electronics', 'home', 'food'], [459, 120, 99]],\n",
    "         ['32761', ['samantha', 'smith'], 29, ['clothes', 'electronics', 'beauty'], [299, 679, 85]],\n",
    "         ['32984', ['david', 'white'], 41, ['books', 'home', 'sport'], [234, 329, 243]],\n",
    "         ['33001', ['emily', 'brown'], 26, ['beauty', 'home', 'food'], [213, 659, 79]],\n",
    "         ['33767', ['maria', 'garcia'], 33, ['clothes', 'food', 'beauty'], [499, 189, 63]],\n",
    "         ['33912', ['jose', 'martinez'], 22, ['sport', 'electronics', 'home'], [259, 549, 109]],\n",
    "         ['34009', ['lisa', 'wilson'], 35, ['home', 'books', 'clothes'], [329, 189, 329]],\n",
    "         ['34278', ['james', 'lee'], 28, ['beauty', 'clothes', 'electronics'], [189, 299, 579]]]\n",
    "\n",
    "for user in users:\n",
    "    if user[2] < 30:\n",
    "        total_spent = sum(user[4])\n",
    "        if total_spent > 1000:\n",
    "            full_name = ' '.join(user[1])\n",
    "            print(full_name)"
   ]
  },
  {
   "cell_type": "markdown",
   "metadata": {
    "id": "H2jI5ljVJm9d"
   },
   "source": [
    "# Paso 9 – Usuarios que compraron ropa\n",
    "\n",
    "Se recorre la lista de usuarios y se filtran aquellos que tienen la categoría `\"clothes\"` en su historial de compras.\n",
    "\n",
    "Si un usuario ha comprado ropa, se imprime su nombre completo junto con su edad en la misma línea.\n",
    "\n",
    "Esto se logra utilizando la instrucción `if` para verificar la categoría en la posición correspondiente,  \n",
    "combinado con la función `.join()` para unir nombre y apellido, y `print()` para mostrar los resultados."
   ]
  },
  {
   "cell_type": "code",
   "execution_count": 34,
   "metadata": {
    "colab": {
     "base_uri": "https://localhost:8080/"
    },
    "id": "oSLk86udJm9d",
    "outputId": "561a72a2-179a-4a94-da78-d96f5bd4ca9d"
   },
   "outputs": [
    {
     "name": "stdout",
     "output_type": "stream",
     "text": [
      "kate morgan 24\n",
      "samantha smith 29\n",
      "maria garcia 33\n",
      "lisa wilson 35\n",
      "james lee 28\n"
     ]
    }
   ],
   "source": [
    "users = [['32415', ['mike', 'reed'], 32, ['electronics', 'sport', 'books'], [894, 213, 173]],\n",
    "         ['31980', ['kate', 'morgan'], 24, ['clothes', 'books'], [439, 390]],\n",
    "         ['32156', ['john', 'doe'], 37, ['electronics', 'home', 'food'], [459, 120, 99]],\n",
    "         ['32761', ['samantha', 'smith'], 29, ['clothes', 'electronics', 'beauty'], [299, 679, 85]],\n",
    "         ['32984', ['david', 'white'], 41, ['books', 'home', 'sport'], [234, 329, 243]],\n",
    "         ['33001', ['emily', 'brown'], 26, ['beauty', 'home', 'food'], [213, 659, 79]],\n",
    "         ['33767', ['maria', 'garcia'], 33, ['clothes', 'food', 'beauty'], [499, 189, 63]],\n",
    "         ['33912', ['jose', 'martinez'], 22, ['sport', 'electronics', 'home'], [259, 549, 109]],\n",
    "         ['34009', ['lisa', 'wilson'], 35, ['home', 'books', 'clothes'], [329, 189, 329]],\n",
    "         ['34278', ['james', 'lee'], 28, ['beauty', 'clothes', 'electronics'], [189, 299, 579]]]\n",
    "\n",
    "for user in users:\n",
    "    if 'clothes' in user[3]:\n",
    "        full_name = ' '.join(user[1])\n",
    "        age = user[2]\n",
    "        print(full_name, age)"
   ]
  },
  {
   "cell_type": "markdown",
   "metadata": {
    "id": "88QES-0NJzCJ"
   },
   "source": [
    "# Paso 10 – Función para filtrar clientes por categoría\n",
    "\n",
    "La empresa requiere obtener información detallada sobre los clientes que han realizado compras en una categoría específica.  \n",
    "Para ello, se define la función `get_client_by_cat()`, que permite filtrar clientes en base a una categoría dada.\n",
    "\n",
    "### Detalles de implementación:\n",
    "\n",
    "La función recibe los siguientes parámetros:\n",
    "- `users`: lista de usuarios.\n",
    "- `id_index`: índice del ID del usuario.\n",
    "- `name_index`: índice donde está almacenado el nombre (sublista).\n",
    "- `age_index`: índice de la edad.\n",
    "- `category_index`: índice de las categorías de compra.\n",
    "- `amounts_index`: índice de los montos gastados.\n",
    "- `filter_category`: categoría de compra que se desea filtrar (como `'home'`).\n",
    "\n",
    "Para cada usuario, la función verifica si ha comprado en la categoría indicada.  \n",
    "Si es así, recupera el monto gastado en esa categoría y guarda una sublista con:\n",
    "\n",
    "- El ID del usuario.\n",
    "- Su nombre (como sublista).\n",
    "- Su edad.\n",
    "- El monto gastado en la categoría.\n",
    "\n",
    "El resultado final es una lista de sublistas, cada una representando a un cliente filtrado."
   ]
  },
  {
   "cell_type": "code",
   "execution_count": 75,
   "metadata": {
    "colab": {
     "base_uri": "https://localhost:8080/"
    },
    "id": "-Iqf7AcXJzCP",
    "outputId": "1efbe759-c0e7-46bd-a2f2-dca181e4a9c7"
   },
   "outputs": [
    {
     "name": "stdout",
     "output_type": "stream",
     "text": [
      "[['32156', ['john', 'doe'], 37, 120], ['32984', ['david', 'white'], 41, 329], ['33001', ['emily', 'brown'], 26, 659], ['33912', ['jose', 'martinez'], 22, 109], ['34009', ['lisa', 'wilson'], 35, 329]]\n"
     ]
    }
   ],
   "source": [
    "def get_client_by_cat(users, id_index, name_index, age_index, category_index, amounts_index, filter_category):\n",
    "    result = []\n",
    "\n",
    "    for user in users:\n",
    "        if filter_category in user[category_index]:\n",
    "            category_pos = user[category_index].index(filter_category)\n",
    "            amount_spent = user[amounts_index][category_pos]\n",
    "            client_data = [user[id_index], user[name_index], user[age_index], amount_spent]\n",
    "            result.append(client_data)\n",
    "\n",
    "    return result\n",
    "    \n",
    "users = [\n",
    "    ['32415', ['mike', 'reed'], 32, ['electronics', 'sport', 'books'], [894, 213, 173]],\n",
    "    ['31980', ['kate', 'morgan'], 24, ['clothes', 'books'], [439, 390]],\n",
    "    ['32156', ['john', 'doe'], 37, ['electronics', 'home', 'food'], [459, 120, 99]],\n",
    "    ['32761', ['samantha', 'smith'], 29, ['clothes', 'electronics', 'beauty'], [299, 679, 85]],\n",
    "    ['32984', ['david', 'white'], 41, ['books', 'home', 'sport'], [234, 329, 243]],\n",
    "    ['33001', ['emily', 'brown'], 26, ['beauty', 'home', 'food'], [213, 659, 79]],\n",
    "    ['33767', ['maria', 'garcia'], 33, ['clothes', 'food', 'beauty'], [499, 189, 63]],\n",
    "    ['33912', ['jose', 'martinez'], 22, ['sport', 'electronics', 'home'], [259, 549, 109]],\n",
    "    ['34009', ['lisa', 'wilson'], 35, ['home', 'books', 'clothes'], [329, 189, 329]],\n",
    "    ['34278', ['james', 'lee'], 28, ['beauty', 'clothes', 'electronics'], [189, 299, 579]]\n",
    "]\n",
    "\n",
    "result = get_client_by_cat(users, 0, 1, 2, 3, 4, 'home')\n",
    "print(result)\n"
   ]
  },
  {
   "cell_type": "markdown",
   "metadata": {},
   "source": [
    "# Conclusión\n",
    "\n",
    "A lo largo de este proyecto, se realizó un proceso completo de limpieza y preprocesamiento de los datos de clientes proporcionados por Store 1.\n",
    "\n",
    "Cada paso abordó una tarea clave para mejorar la calidad de los datos:\n",
    "- Se estandarizaron los nombres de los usuarios eliminando espacios, guiones bajos y corrigiendo el formato con minúsculas y mayúsculas.\n",
    "- Se convirtieron las edades de flotante a entero para asegurar uniformidad.\n",
    "- Las categorías de compra fueron normalizadas a minúsculas y reorganizadas sin modificar los datos originales.\n",
    "- Se calculó el gasto total de cada usuario, así como el ingreso general de la empresa.\n",
    "- Se simularon nuevas compras utilizando números aleatorios para analizar casos de clientes leales.\n",
    "- Se aplicaron filtros para obtener información de usuarios menores de cierta edad, con gastos específicos o compras de ciertos productos.\n",
    "- Finalmente, se desarrolló una función reutilizable capaz de filtrar usuarios por categoría específica y retornar información relevante como nombre, edad e historial de gasto.\n",
    "\n",
    "Este flujo de trabajo permitió aplicar estructuras fundamentales de Python como funciones, bucles, condicionales, comprensión de listas y manipulación de estructuras anidadas. Todo esto sienta las bases para abordar análisis más complejos en proyectos posteriores con datos aún más robustos.\n",
    "\n",
    "El resultado es una base de datos limpia, estandarizada y lista para análisis posteriores como segmentación de clientes, patrones de consumo o automatización de campañas de marketing.\n",
    "\n"
   ]
  }
 ],
 "metadata": {
  "colab": {
   "provenance": []
  },
  "kernelspec": {
   "display_name": "Python [conda env:base] *",
   "language": "python",
   "name": "conda-base-py"
  },
  "language_info": {
   "codemirror_mode": {
    "name": "ipython",
    "version": 3
   },
   "file_extension": ".py",
   "mimetype": "text/x-python",
   "name": "python",
   "nbconvert_exporter": "python",
   "pygments_lexer": "ipython3",
   "version": "3.12.7"
  },
  "toc": {
   "base_numbering": 1,
   "nav_menu": {},
   "number_sections": true,
   "sideBar": true,
   "skip_h1_title": true,
   "title_cell": "Table of Contents",
   "title_sidebar": "Contents",
   "toc_cell": false,
   "toc_position": {},
   "toc_section_display": true,
   "toc_window_display": false
  }
 },
 "nbformat": 4,
 "nbformat_minor": 4
}
